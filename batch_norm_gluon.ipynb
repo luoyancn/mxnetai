{
 "nbformat": 4,
 "nbformat_minor": 2,
 "metadata": {
  "language_info": {
   "name": "python",
   "codemirror_mode": {
    "name": "ipython",
    "version": 3
   }
  },
  "orig_nbformat": 2,
  "file_extension": ".py",
  "mimetype": "text/x-python",
  "name": "python",
  "npconvert_exporter": "python",
  "pygments_lexer": "ipython3",
  "version": 3
 },
 "cells": [
  {
   "cell_type": "code",
   "execution_count": 1,
   "metadata": {},
   "outputs": [],
   "source": [
    "from mxnet.gluon import nn\n",
    "from mxnet import autograd\n",
    "from mxnet import gluon\n",
    "from mxnet import nd\n",
    "\n",
    "import utils\n",
    "\n",
    "net = nn.Sequential()\n",
    "with net.name_scope():\n",
    "    net.add(nn.Conv2D(channels=20, kernel_size=5))\n",
    "    net.add(nn.BatchNorm(axis=1))\n",
    "    net.add(nn.Activation(activation='relu'))\n",
    "    net.add(nn.MaxPool2D(pool_size=2, strides=2))\n",
    "\n",
    "    net.add(nn.Conv2D(channels=50, kernel_size=3))\n",
    "    net.add(nn.BatchNorm(axis=1))\n",
    "    net.add(nn.Activation(activation='relu'))\n",
    "    net.add(nn.MaxPool2D(pool_size=2, strides=2))\n",
    "    net.add(nn.Flatten())\n",
    "\n",
    "    net.add(nn.Dense(128, activation='relu'))\n",
    "    net.add(nn.Dense(10))"
   ]
  },
  {
   "cell_type": "code",
   "execution_count": 2,
   "metadata": {},
   "outputs": [],
   "source": [
    "ctx = utils.try_gpu()\n",
    "net.initialize(ctx=ctx)\n",
    "batch_size = 256\n",
    "train_data, test_data = utils.load_data_fashion_mnist(batch_size)\n",
    "softmax_cross_entropy = gluon.loss.SoftmaxCrossEntropyLoss()\n",
    "\n",
    "trainer = gluon.Trainer(net.collect_params(), 'sgd', {'learning_rate': 0.2})"
   ]
  },
  {
   "cell_type": "code",
   "execution_count": 3,
   "metadata": {},
   "outputs": [
    {
     "name": "stdout",
     "output_type": "stream",
     "text": "Epoch 0 , Loss: 0.583778, Train acc: 0.783344, Test acc: 0.852344\nEpoch 1 , Loss: 0.360016, Train acc: 0.867686, Test acc: 0.885840\nEpoch 2 , Loss: 0.305558, Train acc: 0.888281, Test acc: 0.889160\nEpoch 3 , Loss: 0.277306, Train acc: 0.897645, Test acc: 0.902832\nEpoch 4 , Loss: 0.252794, Train acc: 0.907281, Test acc: 0.894141\n"
    }
   ],
   "source": [
    "for epoch in range(5):\n",
    "    train_loss = 0.\n",
    "    train_acc = 0.\n",
    "    for data, label in train_data:\n",
    "        label = label.as_in_context(ctx)\n",
    "        with autograd.record():\n",
    "            output = net(data.as_in_context(ctx))\n",
    "            loss = softmax_cross_entropy(output, label)\n",
    "        loss.backward()\n",
    "        trainer.step(batch_size)\n",
    "\n",
    "        train_loss += nd.mean(loss).asscalar()\n",
    "        train_acc += utils.accuracy(output, label)\n",
    "\n",
    "    test_acc = utils.evaluate_accuracy(test_data, net, ctx)\n",
    "    print('Epoch %d , Loss: %f, Train acc: %f, Test acc: %f' %(\n",
    "        epoch, train_loss/len(train_data),\n",
    "        train_acc/len(train_data), test_acc))"
   ]
  },
  {
   "cell_type": "code",
   "execution_count": null,
   "metadata": {},
   "outputs": [],
   "source": []
  }
 ]
}