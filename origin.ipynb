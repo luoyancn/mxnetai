{
 "cells": [
  {
   "cell_type": "code",
   "execution_count": 1,
   "metadata": {},
   "outputs": [],
   "source": [
    "import random\n",
    "\n",
    "from mxnet import ndarray as nd\n",
    "from mxnet import autograd as ag\n",
    "\n",
    "\n",
    "num_inputs = 2\n",
    "num_examples = 1000\n",
    "true_w = [2, -3.4]\n",
    "true_b = 4.2\n",
    "batch_size = 10\n",
    "\n",
    "x = nd.random_normal(shape=(num_examples, num_inputs))\n",
    "y = true_w[0] * x[:, 0] + true_w[1] * x[:, 1] + true_b\n",
    "y += .01 *nd.random_normal(shape=y.shape)"
   ]
  },
  {
   "cell_type": "code",
   "execution_count": 2,
   "metadata": {},
   "outputs": [],
   "source": [
    "def data_iter():\n",
    "    idx = list(range(num_examples))\n",
    "    random.shuffle(idx)\n",
    "    for i in range(0, num_examples, batch_size):\n",
    "        j = nd.array(idx[i:min(i+batch_size, num_examples)])\n",
    "        yield nd.take(x, j), nd.take(y, j)\n",
    "\n",
    "\n",
    "w = nd.random_normal(shape=(num_inputs, 1))\n",
    "b = nd.zeros((1, ))\n",
    "params = [w, b]\n",
    "for param in params:\n",
    "    param.attach_grad()"
   ]
  },
  {
   "cell_type": "code",
   "execution_count": 3,
   "metadata": {},
   "outputs": [],
   "source": [
    "def net(x):\n",
    "    return nd.dot(x, w) + b\n",
    "\n",
    "\n",
    "def squar_loss(yhat, y):\n",
    "    return (yhat - y.reshape(yhat.shape)) ** 2\n",
    "\n",
    "\n",
    "def sgd(params, lr):\n",
    "    for param in params:\n",
    "        param[:] = param - lr * param.grad"
   ]
  },
  {
   "cell_type": "code",
   "execution_count": 4,
   "metadata": {},
   "outputs": [
    {
     "name": "stdout",
     "output_type": "stream",
     "text": [
      "Epoch 0, average loss: 6.857532\n",
      "Epoch 1, average loss: 0.131342\n",
      "Epoch 2, average loss: 0.002627\n",
      "Epoch 3, average loss: 0.000152\n",
      "Epoch 4, average loss: 0.000102\n"
     ]
    }
   ],
   "source": [
    "epochs = 5\n",
    "learning_rate = .001\n",
    "for e in range(epochs):\n",
    "    total_loss = 0\n",
    "    for data, label in data_iter():\n",
    "        with ag.record():\n",
    "            output = net(data)\n",
    "            loss = squar_loss(output, label)\n",
    "        loss.backward()\n",
    "        sgd(params, learning_rate)\n",
    "        total_loss += nd.sum(loss).asscalar()\n",
    "    print('Epoch %d, average loss: %f' %(e, total_loss/num_examples))"
   ]
  },
  {
   "cell_type": "code",
   "execution_count": 7,
   "metadata": {},
   "outputs": [
    {
     "name": "stdout",
     "output_type": "stream",
     "text": [
      "\n",
      "[[ 2.00007  ]\n",
      " [-3.3999279]]\n",
      "<NDArray 2x1 @cpu(0)> [2, -3.4]\n",
      "\n",
      "[4.199747]\n",
      "<NDArray 1 @cpu(0)> 4.2\n"
     ]
    }
   ],
   "source": [
    "print(w, true_w)\n",
    "print(b, true_b)"
   ]
  },
  {
   "cell_type": "code",
   "execution_count": null,
   "metadata": {},
   "outputs": [],
   "source": []
  }
 ],
 "metadata": {
  "kernelspec": {
   "display_name": "Python 3",
   "language": "python",
   "name": "python3"
  },
  "language_info": {
   "codemirror_mode": {
    "name": "ipython",
    "version": 3
   },
   "file_extension": ".py",
   "mimetype": "text/x-python",
   "name": "python",
   "nbconvert_exporter": "python",
   "pygments_lexer": "ipython3",
   "version": "3.7.4"
  }
 },
 "nbformat": 4,
 "nbformat_minor": 2
}
