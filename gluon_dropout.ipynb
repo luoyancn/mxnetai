{
 "nbformat": 4,
 "nbformat_minor": 2,
 "metadata": {
  "language_info": {
   "name": "python",
   "codemirror_mode": {
    "name": "ipython",
    "version": 3
   }
  },
  "orig_nbformat": 2,
  "file_extension": ".py",
  "mimetype": "text/x-python",
  "name": "python",
  "npconvert_exporter": "python",
  "pygments_lexer": "ipython3",
  "version": 3
 },
 "cells": [
  {
   "cell_type": "code",
   "execution_count": 1,
   "metadata": {},
   "outputs": [],
   "source": [
    "from mxnet.gluon import nn\n",
    "\n",
    "net = nn.Sequential()\n",
    "drop_prob1 = 0.2\n",
    "drop_prob2 = 0.5\n",
    "\n",
    "with net.name_scope():\n",
    "    net.add(nn.Flatten())\n",
    "    net.add(nn.Dense(256, activation='relu'))\n",
    "    net.add(nn.Dropout(drop_prob1))\n",
    "    net.add(nn.Dense(256, activation='relu'))\n",
    "    net.add(nn.Dropout(drop_prob2))\n",
    "    net.add(nn.Dense(10))\n",
    "\n",
    "net.initialize()"
   ]
  },
  {
   "cell_type": "code",
   "execution_count": null,
   "metadata": {},
   "outputs": [],
   "source": []
  }
 ]
}