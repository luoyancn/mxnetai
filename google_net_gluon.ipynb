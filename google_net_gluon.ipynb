{
 "nbformat": 4,
 "nbformat_minor": 2,
 "metadata": {
  "language_info": {
   "name": "python",
   "codemirror_mode": {
    "name": "ipython",
    "version": 3
   }
  },
  "orig_nbformat": 2,
  "file_extension": ".py",
  "mimetype": "text/x-python",
  "name": "python",
  "npconvert_exporter": "python",
  "pygments_lexer": "ipython3",
  "version": 3
 },
 "cells": [
  {
   "cell_type": "code",
   "execution_count": 13,
   "metadata": {},
   "outputs": [],
   "source": [
    "# Google Net其中就使用了Network in Network的思想，并对其作了很大的改进\n",
    "# Google Net当中通常有多个4个并行卷积层迭加的块，这个块就称之为Inception。\n",
    "# 其思路基本如下：\n",
    "\n",
    "# 1. 输入经过一个1×1的卷积，直接到输出\n",
    "# 2. 输入经过一个1×1的卷积，再进行3 × 3的卷积，最后到输出\n",
    "# 3. 输入经过一个1×1的卷积，随后进行5 × 5的卷积，最后到输出\n",
    "# 4. 输入经过一个3×3的最大池化，再进行1×1的卷积，最后到输出\n",
    "# 5. 上述四路运算同时进行，所有的输出到最后，进行concat操作，合并并汇集到一起\n",
    "\n",
    "\n",
    "from mxnet.gluon import nn\n",
    "from mxnet import nd\n",
    "\n",
    "\n",
    "class Inception(nn.Block):\n",
    "\n",
    "    def __init__(self, n1_1, n2_1, n2_3, n3_1, n3_5, n4_1, *args, **kwargs):\n",
    "        super(Inception, self).__init__(*args, **kwargs)\n",
    "        with self.name_scope():\n",
    "            # 第一条路径\n",
    "            self.p1_conv_1 = nn.Conv2D(n1_1, kernel_size=1, activation='relu')\n",
    "\n",
    "            # second path\n",
    "            self.p2_conv_1 = nn.Conv2D(n2_1, kernel_size=1, activation='relu')\n",
    "            self.p2_conv_3 = nn.Conv2D(n2_3, kernel_size=3, padding=1, activation='relu')\n",
    "\n",
    "            # third path\n",
    "            self.p3_conv_1 = nn.Conv2D(n3_1, kernel_size=1, activation='relu')\n",
    "            self.p3_conv_5 = nn.Conv2D(n3_5, kernel_size=5, padding=2, activation='relu')\n",
    "\n",
    "            # fourth path\n",
    "            self.p4_pool_3 = nn.MaxPool2D(pool_size=3, padding=1, strides=1)\n",
    "            self.p4_conv_1 = nn.Conv2D(n4_1, kernel_size=1, strides=1, activation='relu')\n",
    "\n",
    "    def forward(self, x):\n",
    "        p1 = self.p1_conv_1(x)\n",
    "        p2 = self.p2_conv_3(self.p2_conv_1(x))\n",
    "        p3 = self.p3_conv_5(self.p3_conv_1(x))\n",
    "        p4 = self.p4_conv_1(self.p4_pool_3(x))\n",
    "        return nd.concat(p1, p2, p3, p4, dim=1)"
   ]
  },
  {
   "cell_type": "code",
   "execution_count": 14,
   "metadata": {},
   "outputs": [],
   "source": [
    "incp = Inception(64, 96, 128, 16, 32, 32)\n",
    "incp.initialize()"
   ]
  },
  {
   "cell_type": "code",
   "execution_count": 15,
   "metadata": {},
   "outputs": [
    {
     "data": {
      "text/plain": "(32, 256, 64, 64)"
     },
     "execution_count": 15,
     "metadata": {},
     "output_type": "execute_result"
    }
   ],
   "source": [
    "x = nd.random_uniform(shape=(32, 3, 64, 64))\n",
    "incp(x).shape"
   ]
  },
  {
   "cell_type": "code",
   "execution_count": 22,
   "metadata": {},
   "outputs": [],
   "source": [
    "class GoogleNet(nn.Block):\n",
    "\n",
    "    def __init__(self, num_classes, verbose=False, *args, **kwargs):\n",
    "        super(GoogleNet, self).__init__(*args, **kwargs)\n",
    "        self.verbose = verbose\n",
    "        with self.name_scope():\n",
    "            b1 = nn.Sequential()\n",
    "            b1.add(nn.Conv2D(64, kernel_size=7, strides=2,\n",
    "                             padding=3, activation='relu'),\n",
    "                   nn.MaxPool2D(pool_size=3, strides=2))\n",
    "\n",
    "            b2 = nn.Sequential()\n",
    "            b2.add(nn.Conv2D(64, kernel_size=1),\n",
    "                   nn.Conv2D(192, kernel_size=3, padding=1),\n",
    "                   nn.MaxPool2D(pool_size=3, strides=2))\n",
    "\n",
    "            b3 = nn.Sequential()\n",
    "            b3.add(Inception(64, 96, 128, 16, 32, 32),\n",
    "                   Inception(128, 128, 192, 32, 96, 64),\n",
    "                   nn.MaxPool2D(pool_size=3, strides=2))\n",
    "\n",
    "            b4 = nn.Sequential()\n",
    "            b4.add(Inception(192, 96, 208, 16, 48, 64),\n",
    "                   Inception(160, 112, 224, 24, 64, 64),\n",
    "                   Inception(128, 128, 256, 24, 64, 64),\n",
    "                   Inception(112, 114, 288, 32, 64, 64),\n",
    "                   Inception(256, 160, 320, 32, 128, 128),\n",
    "                   nn.MaxPool2D(pool_size=3, strides=2))\n",
    "\n",
    "            b5 = nn.Sequential()\n",
    "            b5.add(Inception(256, 160, 320, 32, 128, 128),\n",
    "                   Inception(384, 192, 384, 48, 128, 128),\n",
    "                   nn.AvgPool2D(pool_size=2))\n",
    "\n",
    "            b6 = nn.Sequential()\n",
    "            b6.add(nn.Flatten(), nn.Dense(num_classes))\n",
    "\n",
    "            self.net = nn.Sequential()\n",
    "            self.net.add(b1, b2, b3, b4, b5, b6)\n",
    "\n",
    "    def forward(self, x):\n",
    "        out = x\n",
    "        for i, b in enumerate(self.net):\n",
    "            out = b(out)\n",
    "            if self.verbose:\n",
    "                print('Block %d output: %s' % (i + 1, out.shape))\n",
    "        return out"
   ]
  },
  {
   "cell_type": "code",
   "execution_count": 23,
   "metadata": {},
   "outputs": [],
   "source": [
    "net = GoogleNet(10, verbose=True)\n",
    "net.initialize()"
   ]
  },
  {
   "cell_type": "code",
   "execution_count": 24,
   "metadata": {},
   "outputs": [
    {
     "name": "stdout",
     "output_type": "stream",
     "text": "Block 1 output: (4, 64, 23, 23)\nBlock 2 output: (4, 192, 11, 11)\nBlock 3 output: (4, 480, 5, 5)\nBlock 4 output: (4, 832, 2, 2)\nBlock 5 output: (4, 1024, 1, 1)\nBlock 6 output: (4, 10)\n"
    }
   ],
   "source": [
    "x = nd.random_uniform(shape=(4, 3, 96, 96))\n",
    "y = net(x)"
   ]
  },
  {
   "cell_type": "code",
   "execution_count": null,
   "metadata": {},
   "outputs": [],
   "source": [
    "from mxnet import init\n",
    "from mxnet import gluon\n",
    "\n",
    "import utils\n",
    "\n",
    "train_data, test_data = utils.load_data_fashion_mnist_new(batch_size=64, resize=96)\n",
    "ctx = utils.try_gpu()\n",
    "net_ = GoogleNet(10)\n",
    "net_.initialize(ctx=ctx, init=init.Xavier())\n",
    "\n",
    "loss = gluon.loss.SoftmaxCrossEntropyLoss()\n",
    "trainer = gluon.Trainer(net_.collect_params(), 'sgd', {'learning_rate': 0.01})\n",
    "utils.train(train_data, test_data, net_, loss, trainer, ctx, num_epochs=1)"
   ]
  }
 ]
}