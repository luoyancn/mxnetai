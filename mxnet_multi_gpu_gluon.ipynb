{
  "nbformat": 4,
  "nbformat_minor": 0,
  "metadata": {
    "colab": {
      "name": "mxnet_multi_gpu_gluon.ipynb",
      "provenance": [],
      "collapsed_sections": []
    },
    "kernelspec": {
      "name": "python3",
      "display_name": "Python 3"
    },
    "accelerator": "GPU"
  },
  "cells": [
    {
      "cell_type": "code",
      "execution_count": 0,
      "metadata": {
        "colab": {},
        "colab_type": "code",
        "id": "8rj2UrjOclHl"
      },
      "outputs": [],
      "source": [
        "from mxnet import gpu\n",
        "from mxnet import cpu\n",
        "from mxnet import nd\n",
        "from mxnet import gluon\n",
        "from mxnet import autograd\n",
        "from mxnet import init\n",
        "from time import time\n",
        "\n",
        "import utils\n",
        "\n",
        "\n",
        "def train(num_gpus, batch_size, lr):\n",
        "    train_data, test_data = utils.load_data_fashion_mnist(batch_size)\n",
        "\n",
        "    ctx = [gpu(i) for i in range(num_gpus)]\n",
        "    print('Running on', ctx)\n",
        "\n",
        "    net = utils.resnet18_28(10)\n",
        "    net.initialize(init=init.Xavier(), ctx=ctx)\n",
        "    loss = gluon.loss.SoftmaxCrossEntropyLoss()\n",
        "    trainer = gluon.Trainer(net.collect_params(),'sgd', {'learning_rate': lr})\n",
        "\n",
        "    for epoch in range(5):\n",
        "        start = time()\n",
        "        total_loss = 0\n",
        "        for data, label in train_data:\n",
        "            data_list = gluon.utils.split_and_load(data, ctx)\n",
        "            label_list = gluon.utils.split_and_load(label, ctx)\n",
        "            with autograd.record():\n",
        "                losses = [loss(net(x), y) for x, y in zip(data_list, label_list)]\n",
        "            for l in losses:\n",
        "                l.backward()\n",
        "            total_loss += sum([l.sum().asscalar() for l in losses])\n",
        "            trainer.step(batch_size)\n",
        "\n",
        "        nd.waitall()\n",
        "        print('Epoch %d, training time = %.1f sec'%(\n",
        "            epoch, time()-start))\n",
        "\n",
        "        test_acc = utils.evaluate_accuracy(test_data, net, ctx[0])\n",
        "        print('         validation accuracy = %.4f'%(test_acc))"
      ]
    },
    {
      "cell_type": "code",
      "execution_count": 12,
      "metadata": {
        "colab": {
          "base_uri": "https://localhost:8080/",
          "height": 214
        },
        "colab_type": "code",
        "id": "s-G3lugNeTgG",
        "outputId": "73682633-250b-4c54-cfce-8b70c3f329e2"
      },
      "outputs": [
        {
          "name": "stdout",
          "output_type": "stream",
          "text": [
            "Running on [gpu(0)]\n",
            "Epoch 0, training time = 42.6 sec\n",
            "         validation accuracy = 0.8919\n",
            "Epoch 1, training time = 42.3 sec\n",
            "         validation accuracy = 0.9018\n",
            "Epoch 2, training time = 42.8 sec\n",
            "         validation accuracy = 0.9008\n",
            "Epoch 3, training time = 43.4 sec\n",
            "         validation accuracy = 0.9112\n",
            "Epoch 4, training time = 43.3 sec\n",
            "         validation accuracy = 0.9086\n"
          ]
        }
      ],
      "source": [
        "train(1, 256, .1)"
      ]
    }
  ]
}