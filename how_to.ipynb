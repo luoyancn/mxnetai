{
 "nbformat": 4,
 "nbformat_minor": 2,
 "metadata": {
  "language_info": {
   "name": "python",
   "codemirror_mode": {
    "name": "ipython",
    "version": 3
   }
  },
  "orig_nbformat": 2,
  "file_extension": ".py",
  "mimetype": "text/x-python",
  "name": "python",
  "npconvert_exporter": "python",
  "pygments_lexer": "ipython3",
  "version": 3
 },
 "cells": [
  {
   "cell_type": "code",
   "execution_count": 2,
   "metadata": {},
   "outputs": [
    {
     "name": "stdout",
     "output_type": "stream",
     "text": "Sequential(\n  (0): Dense(None -> 256, Activation(relu))\n  (1): Dense(None -> 10, linear)\n)\n"
    }
   ],
   "source": [
    "import mxnet as mx\n",
    "from mxnet import nd\n",
    "from mxnet.gluon import nn\n",
    "\n",
    "net = nn.Sequential()\n",
    "with net.name_scope():\n",
    "    net.add(nn.Dense(256, activation='relu'))\n",
    "    net.add(nn.Dense(10))\n",
    "\n",
    "print(net)"
   ]
  },
  {
   "cell_type": "code",
   "execution_count": 3,
   "metadata": {},
   "outputs": [
    {
     "name": "stdout",
     "output_type": "stream",
     "text": "MLP(\n  (dense_first): Dense(None -> 256, linear)\n  (dense_second): Dense(None -> 10, linear)\n)\n"
    }
   ],
   "source": [
    "\n",
    "# Block是一个一般化的部件，可以无限的嵌套block。其主要提供如下内容：\n",
    "#　存储参数，　描述forward的执行以及自动求导\n",
    "# Sequential实际就是一个block的容器，通过add函数来添加block，自动生成forward函数\n",
    "# 将add添加的block按序执行\n",
    "class MLP(nn.Block):\n",
    "\n",
    "    def __init__(self, *args, **kwargs):\n",
    "        super(MLP, self).__init__(*args, **kwargs)\n",
    "        with self.name_scope():\n",
    "            self.dense_first = nn.Dense(256)\n",
    "            self.dense_second = nn.Dense(10)\n",
    "    \n",
    "    def forward(self, x):\n",
    "        return self.dense_second(nd.relu(self.dense_first(x)))\n",
    "\n",
    "\n",
    "net2 = MLP()\n",
    "print(net2)"
   ]
  },
  {
   "cell_type": "code",
   "execution_count": 4,
   "metadata": {},
   "outputs": [
    {
     "name": "stdout",
     "output_type": "stream",
     "text": "\n[[ 0.03126615  0.04562765  0.00039855 -0.08772384 -0.05355631  0.02904575\n   0.08102557 -0.01433946 -0.04224152  0.06047883]\n [ 0.02871901  0.03652266  0.00630051 -0.0565097  -0.07189323  0.08615956\n   0.05951558 -0.06045965 -0.0299026   0.05651002]\n [ 0.02147348  0.04818897  0.05321141 -0.12616858 -0.06850231  0.09096344\n   0.04064302 -0.05064791 -0.0220024   0.04859561]\n [ 0.03780477  0.07512389  0.03290457 -0.1164111  -0.03254965  0.0586529\n   0.02542157 -0.01697343 -0.00049651  0.05892841]]\n<NDArray 4x10 @cpu(0)>\n"
    }
   ],
   "source": [
    "net2.initialize()\n",
    "x = nd.random.uniform(shape=(4, 20))\n",
    "y = net2(x)\n",
    "print(y)"
   ]
  },
  {
   "cell_type": "code",
   "execution_count": 5,
   "metadata": {},
   "outputs": [
    {
     "name": "stdout",
     "output_type": "stream",
     "text": "mlp0_dense0\ndense0\n"
    }
   ],
   "source": [
    "print(net2.dense_first.name)\n",
    "\n",
    "net3 = MLP(prefix='') # 定义网络层的名称前缀\n",
    "print(net3.dense_first.name)"
   ]
  },
  {
   "cell_type": "code",
   "execution_count": 8,
   "metadata": {},
   "outputs": [
    {
     "name": "stdout",
     "output_type": "stream",
     "text": "\n[[-0.00411106  0.00781807  0.03506001 -0.01106467  0.09599376 -0.04190595\n   0.01127483 -0.01493319  0.0716491   0.00700369]\n [ 0.01214233  0.02546025  0.03533493 -0.02328115  0.10768865 -0.01672857\n  -0.02653831 -0.03458688  0.0640486  -0.00030123]\n [-0.00452384  0.00228632  0.02761049 -0.05750642  0.10328892 -0.01792853\n  -0.04610603 -0.04085523  0.05824736  0.0003379 ]\n [-0.00518478 -0.02185423  0.02528594 -0.00436605  0.05142228 -0.02703231\n   0.01939205 -0.03802725  0.0283272  -0.01720729]]\n<NDArray 4x10 @cpu(0)>\n"
    }
   ],
   "source": [
    "# Sequential的简单实现\n",
    "\n",
    "class Sequential(nn.Block):\n",
    "\n",
    "    def __init__(self, *args, **kwargs):\n",
    "        super(Sequential, self).__init__(*args, **kwargs)\n",
    "\n",
    "    def add(self, block, block_name):\n",
    "        self._children[block_name] = block\n",
    "\n",
    "    def forward(self, x):\n",
    "        for block in self._children.values():\n",
    "            x = block(x)\n",
    "        return x\n",
    "\n",
    "myseq = Sequential()\n",
    "with myseq.name_scope():\n",
    "    myseq.add(nn.Dense(256, activation='relu'), block_name='first')\n",
    "    myseq.add(nn.Dense(10), block_name='second')\n",
    "\n",
    "myseq.initialize()\n",
    "y = myseq(x)\n",
    "print(y)"
   ]
  },
  {
   "cell_type": "code",
   "execution_count": 9,
   "metadata": {},
   "outputs": [
    {
     "name": "stdout",
     "output_type": "stream",
     "text": "FancyMLP(\n  (dense): Dense(None -> 256, linear)\n)\n"
    }
   ],
   "source": [
    "class FancyMLP(nn.Block):\n",
    "\n",
    "    def __init__(self, *args, **kwargs):\n",
    "        super(FancyMLP, self).__init__(*args, **kwargs)\n",
    "        with self.name_scope():\n",
    "            self.dense = nn.Dense(256)\n",
    "            self.weight = nd.random_uniform(shape=(256, 20))\n",
    "\n",
    "    def forward(self, x):\n",
    "        x = nd.relu(self.dense(x))\n",
    "        x = nd.relu(nd.dot(x, self.weight) + 1)\n",
    "        x = nd.relu(self.dense(x))\n",
    "        return x\n",
    "\n",
    "fancy = FancyMLP()\n",
    "print(fancy)"
   ]
  },
  {
   "cell_type": "code",
   "execution_count": 10,
   "metadata": {},
   "outputs": [
    {
     "name": "stdout",
     "output_type": "stream",
     "text": "(4, 256)\n"
    }
   ],
   "source": [
    "fancy.initialize()\n",
    "y = fancy(x)\n",
    "print(y.shape)"
   ]
  },
  {
   "cell_type": "code",
   "execution_count": 11,
   "metadata": {},
   "outputs": [
    {
     "name": "stdout",
     "output_type": "stream",
     "text": "Sequential(\n  (0): RecMLP(\n    (net): Sequential(\n      (0): Dense(None -> 256, Activation(relu))\n      (1): Dense(None -> 128, Activation(relu))\n    )\n    (dense): Dense(None -> 64, linear)\n  )\n  (1): Dense(None -> 10, linear)\n)\n"
    }
   ],
   "source": [
    "# block和sequential可以混合使用\n",
    "class RecMLP(nn.Block):\n",
    "\n",
    "    def __init__(self, *args, **kwargs):\n",
    "        super(RecMLP, self).__init__(*args, **kwargs)\n",
    "        self.net = nn.Sequential()\n",
    "        with self.name_scope():\n",
    "            self.net.add(nn.Dense(256, activation='relu'))\n",
    "            self.net.add(nn.Dense(128, activation='relu'))\n",
    "            self.dense = nn.Dense(64)\n",
    "\n",
    "    def forward(self, x):\n",
    "        return nd.relu(self.dense(self.net(x)))\n",
    "\n",
    "rec = nn.Sequential()\n",
    "rec.add(RecMLP())\n",
    "rec.add(nn.Dense(10))\n",
    "\n",
    "print(rec)"
   ]
  },
  {
   "cell_type": "code",
   "execution_count": null,
   "metadata": {},
   "outputs": [],
   "source": []
  }
 ]
}