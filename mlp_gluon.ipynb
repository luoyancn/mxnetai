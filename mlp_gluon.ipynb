{
 "cells": [
  {
   "cell_type": "code",
   "execution_count": 7,
   "metadata": {},
   "outputs": [],
   "source": [
    "# 多层神经网络有时也称之为神经网络感知\n",
    "\n",
    "from mxnet import autograd as ag\n",
    "from mxnet import gluon\n",
    "from mxnet import ndarray as nd\n",
    "\n",
    "import utils\n",
    "\n",
    "num_inputs = 28 * 28\n",
    "num_outputs = 10\n",
    "\n",
    "num_hidden = 256\n",
    "weight_scale = .01\n",
    "\n",
    "learning_rate = .5\n",
    "batch_size = 256\n",
    "\n",
    "w1 = nd.random_normal(shape=(num_inputs, num_hidden), scale=weight_scale) # scale表示标准差\n",
    "b1 = nd.zeros(num_hidden)\n",
    "\n",
    "w2 = nd.random_normal(shape=(num_hidden, num_outputs), scale=weight_scale)\n",
    "b2 = nd.zeros(num_outputs)\n",
    "\n",
    "params = [w1, b1, w2, b2]\n",
    "\n",
    "for param in params:\n",
    "    param.attach_grad()"
   ]
  },
  {
   "cell_type": "code",
   "execution_count": 8,
   "metadata": {},
   "outputs": [],
   "source": [
    "net = gluon.nn.Sequential()\n",
    "with net.name_scope():\n",
    "    net.add(gluon.nn.Flatten()) # 拉直，即将多维数组转换为(1 ,n)的形状\n",
    "    net.add(gluon.nn.Dense(num_hidden, activation='relu'))\n",
    "    net.add(gluon.nn.Dense(num_outputs))\n",
    "\n",
    "net.initialize()"
   ]
  },
  {
   "cell_type": "code",
   "execution_count": 9,
   "metadata": {},
   "outputs": [],
   "source": [
    "train_data, test_data = utils.mnistfashion_data(batch_size)\n",
    "softmax_corss_entropy = gluon.loss.SoftmaxCrossEntropyLoss()\n",
    "trainer = gluon.Trainer(net.collect_params(), 'sgd', {'learning_rate': 0.5})"
   ]
  },
  {
   "cell_type": "code",
   "execution_count": 10,
   "metadata": {},
   "outputs": [
    {
     "name": "stdout",
     "output_type": "stream",
     "text": [
      "Epoch 0, Loss: 0.000000, Train acc 0.000000, Test acc 0.834277\n",
      "Epoch 1, Loss: 0.000000, Train acc 0.000000, Test acc 0.852832\n",
      "Epoch 2, Loss: 0.000000, Train acc 0.000000, Test acc 0.859570\n",
      "Epoch 3, Loss: 0.000000, Train acc 0.000000, Test acc 0.868164\n",
      "Epoch 4, Loss: 0.000000, Train acc 0.000000, Test acc 0.870410\n"
     ]
    }
   ],
   "source": [
    "for epoch in range(5):\n",
    "    train_loss = 0.\n",
    "    train_acc = 0.\n",
    "    for data, label in train_data:\n",
    "        with ag.record():\n",
    "            output = net(data)\n",
    "            loss = softmax_corss_entropy(output, label)\n",
    "        loss.backward()\n",
    "        trainer.step(batch_size)\n",
    "    test_acc = utils.evaluate_accuracy(test_data, net)\n",
    "    print('Epoch %d, Loss: %f, Train acc %f, Test acc %f' %(\n",
    "        epoch, train_loss/len(train_data), train_acc/len(train_data), test_acc))"
   ]
  },
  {
   "cell_type": "code",
   "execution_count": null,
   "metadata": {},
   "outputs": [],
   "source": []
  }
 ],
 "metadata": {
  "kernelspec": {
   "display_name": "Python 3",
   "language": "python",
   "name": "python3"
  },
  "language_info": {
   "codemirror_mode": {
    "name": "ipython",
    "version": 3
   },
   "file_extension": ".py",
   "mimetype": "text/x-python",
   "name": "python",
   "nbconvert_exporter": "python",
   "pygments_lexer": "ipython3",
   "version": "3.7.4"
  }
 },
 "nbformat": 4,
 "nbformat_minor": 2
}
