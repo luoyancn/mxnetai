{
 "nbformat": 4,
 "nbformat_minor": 2,
 "metadata": {
  "language_info": {
   "name": "python",
   "codemirror_mode": {
    "name": "ipython",
    "version": 3
   }
  },
  "orig_nbformat": 2,
  "file_extension": ".py",
  "mimetype": "text/x-python",
  "name": "python",
  "npconvert_exporter": "python",
  "pygments_lexer": "ipython3",
  "version": 3
 },
 "cells": [
  {
   "cell_type": "code",
   "execution_count": 1,
   "metadata": {},
   "outputs": [
    {
     "name": "stdout",
     "output_type": "stream",
     "text": "Parameter 'sequential0_dense0_weight' has not been initialized. Note that you should initialize parameters and create Trainer with Block.collect_params() instead of Block.params because the later does not include Parameters of nested child Blocks\n"
    }
   ],
   "source": [
    "from mxnet.gluon import nn\n",
    "from mxnet import nd\n",
    "\n",
    "\n",
    "def get_net():\n",
    "    net = nn.Sequential()\n",
    "    with net.name_scope():\n",
    "        net.add(nn.Dense(4, activation='relu'))\n",
    "        net.add(nn.Dense(2))\n",
    "    return net\n",
    "\n",
    "\n",
    "x = nd.random.uniform(shape=(3, 5))\n",
    "\n",
    "try:\n",
    "    net = get_net()\n",
    "    net(x)\n",
    "except RuntimeError as e:\n",
    "    print(e)\n"
   ]
  },
  {
   "cell_type": "code",
   "execution_count": 2,
   "metadata": {},
   "outputs": [
    {
     "data": {
      "text/plain": "\n[[0.00212593 0.00365805]\n [0.00161272 0.00441845]\n [0.00204872 0.00352518]]\n<NDArray 3x2 @cpu(0)>"
     },
     "execution_count": 2,
     "metadata": {},
     "output_type": "execute_result"
    }
   ],
   "source": [
    "net = get_net()\n",
    "net.initialize()\n",
    "net(x)"
   ]
  },
  {
   "cell_type": "code",
   "execution_count": 10,
   "metadata": {},
   "outputs": [
    {
     "name": "stdout",
     "output_type": "stream",
     "text": "name is : sequential1_dense0 \nweight:  Parameter sequential1_dense0_weight (shape=(4, 5), dtype=float32) \nbias:  Parameter sequential1_dense0_bias (shape=(4,), dtype=float32)\n"
    }
   ],
   "source": [
    "w = net[0].weight\n",
    "b = net[0].bias\n",
    "print('name is :', net[0].name, '\\nweight: ', w, '\\nbias: ', b)"
   ]
  },
  {
   "cell_type": "code",
   "execution_count": 20,
   "metadata": {},
   "outputs": [
    {
     "name": "stdout",
     "output_type": "stream",
     "text": "sequential1_ (\n  Parameter sequential1_dense0_weight (shape=(4, 5), dtype=float32)\n  Parameter sequential1_dense0_bias (shape=(4,), dtype=float32)\n  Parameter sequential1_dense1_weight (shape=(2, 4), dtype=float32)\n  Parameter sequential1_dense1_bias (shape=(2,), dtype=float32)\n)\n\n[[-0.06206018  0.06491279 -0.03182812 -0.01631819 -0.00312688]\n [ 0.0408415   0.04370362  0.00404529 -0.0028032   0.00952624]\n [-0.01501013  0.05958354  0.04705103 -0.06005495 -0.02276454]\n [-0.0578019   0.02074406 -0.06716943 -0.01844618  0.04656678]]\n<NDArray 4x5 @cpu(0)>\n(4, 5)\n\n[0. 0. 0. 0.]\n<NDArray 4 @cpu(0)>\n\n[[-0.06206018  0.06491279 -0.03182812 -0.01631819 -0.00312688]\n [ 0.0408415   0.04370362  0.00404529 -0.0028032   0.00952624]\n [-0.01501013  0.05958354  0.04705103 -0.06005495 -0.02276454]\n [-0.0578019   0.02074406 -0.06716943 -0.01844618  0.04656678]]\n<NDArray 4x5 @cpu(0)>\n"
    }
   ],
   "source": [
    "params = net.collect_params()\n",
    "print(params)\n",
    "print(params['sequential1_dense0_weight'].data())\n",
    "print(params['sequential1_dense0_weight'].shape)\n",
    "print(params.get('dense0_bias').data())\n",
    "print(params.get('dense0_weight').data())  # 通过get方法获取参数的信息，需要去除名称的前缀"
   ]
  },
  {
   "cell_type": "code",
   "execution_count": 22,
   "metadata": {},
   "outputs": [
    {
     "name": "stdout",
     "output_type": "stream",
     "text": "\n[[ 0.01203553  0.00832525  0.01018762 -0.048427   -0.00321659]\n [ 0.00771733 -0.00632596  0.02594279 -0.00826195  0.01191582]\n [ 0.0098195   0.01036525  0.00784631  0.00566644  0.02093405]\n [ 0.00017574 -0.01174674 -0.0067725  -0.00926798 -0.01903343]]\n<NDArray 4x5 @cpu(0)>\n\n[0. 0. 0. 0.]\n<NDArray 4 @cpu(0)>\n"
    }
   ],
   "source": [
    "# initialize初始化权重，默认是[-0.07, 0.07]之间均匀分布的随机数\n",
    "# 也可以使用其他方法，比如下方代码，生成均值为0， 方差为0.02的正态分布随机数\n",
    "from mxnet import init\n",
    "params.initialize(init=init.Normal(sigma=0.02), force_reinit=True)\n",
    "print(net[0].weight.data())\n",
    "print(net[0].bias.data())"
   ]
  },
  {
   "cell_type": "code",
   "execution_count": 23,
   "metadata": {},
   "outputs": [
    {
     "name": "stdout",
     "output_type": "stream",
     "text": "\n[[1. 1. 1. 1. 1.]\n [1. 1. 1. 1. 1.]\n [1. 1. 1. 1. 1.]\n [1. 1. 1. 1. 1.]]\n<NDArray 4x5 @cpu(0)>\n\n[0. 0. 0. 0.]\n<NDArray 4 @cpu(0)>\n"
    }
   ],
   "source": [
    "# 全部初始化为1\n",
    "params.initialize(init=init.One(), force_reinit=True)\n",
    "print(net[0].weight.data())\n",
    "print(net[0].bias.data())"
   ]
  },
  {
   "cell_type": "code",
   "execution_count": 24,
   "metadata": {},
   "outputs": [
    {
     "name": "stdout",
     "output_type": "stream",
     "text": "init weight (4, 5)\ninit weight (2, 4)\n\n[[5.4155626 9.646481  6.3885927 6.592845  5.0467834]\n [8.337051  9.21171   5.6589894 8.23587   8.581636 ]\n [9.20693   6.4470305 6.323651  5.915957  6.989104 ]\n [7.9325647 7.764107  5.100538  5.8247023 9.1447   ]]\n<NDArray 4x5 @cpu(0)>\n\n[0. 0. 0. 0.]\n<NDArray 4 @cpu(0)>\n"
    }
   ],
   "source": [
    "# 也可以自定义参数初始化函数\n",
    "class _MyInit(init.Initializer):\n",
    "\n",
    "    def __init__(self, *args, **kwargs):\n",
    "        super(_MyInit, self).__init__(*args, **kwargs)\n",
    "        self._verbose = True\n",
    "\n",
    "    def _init_weight(self, _, arr):\n",
    "        # 使用out=arr，不需要指定形状shape\n",
    "        print('init weight', arr.shape)\n",
    "        # 生成[5, 10]之前的随机数\n",
    "        nd.random.uniform(low=5, high=10, out=arr)\n",
    "\n",
    "    def _init_bias(self, _, arr):\n",
    "        print('init bias', arr.shape)\n",
    "        # 初始化偏移\n",
    "        arr[:] = 2\n",
    "\n",
    "\n",
    "params.initialize(init=_MyInit(), force_reinit=True)\n",
    "print(net[0].weight.data())\n",
    "print(net[0].bias.data())"
   ]
  },
  {
   "cell_type": "code",
   "execution_count": 25,
   "metadata": {},
   "outputs": [
    {
     "name": "stdout",
     "output_type": "stream",
     "text": "sequential2_ (\n  Parameter sequential2_dense0_weight (shape=(4, 0), dtype=float32)\n  Parameter sequential2_dense0_bias (shape=(4,), dtype=float32)\n  Parameter sequential2_dense1_weight (shape=(2, 0), dtype=float32)\n  Parameter sequential2_dense1_bias (shape=(2,), dtype=float32)\n)\n"
    }
   ],
   "source": [
    "net__ = get_net()\n",
    "print(net__.collect_params())"
   ]
  },
  {
   "cell_type": "code",
   "execution_count": 26,
   "metadata": {},
   "outputs": [],
   "source": [
    "net__.initialize(init=_MyInit())"
   ]
  },
  {
   "cell_type": "code",
   "execution_count": 27,
   "metadata": {},
   "outputs": [
    {
     "name": "stdout",
     "output_type": "stream",
     "text": "init weight (4, 5)\ninit weight (2, 4)\n"
    },
    {
     "data": {
      "text/plain": "\n[[820.3932  867.3587 ]\n [804.3137  850.8902 ]\n [648.2849  686.66437]]\n<NDArray 3x2 @cpu(0)>"
     },
     "execution_count": 27,
     "metadata": {},
     "output_type": "execute_result"
    }
   ],
   "source": [
    "net__(x)"
   ]
  },
  {
   "cell_type": "code",
   "execution_count": 28,
   "metadata": {},
   "outputs": [
    {
     "name": "stdout",
     "output_type": "stream",
     "text": "sequential2_ (\n  Parameter sequential2_dense0_weight (shape=(4, 5), dtype=float32)\n  Parameter sequential2_dense0_bias (shape=(4,), dtype=float32)\n  Parameter sequential2_dense1_weight (shape=(2, 4), dtype=float32)\n  Parameter sequential2_dense1_bias (shape=(2,), dtype=float32)\n)\n"
    }
   ],
   "source": [
    "print(net__.collect_params())"
   ]
  },
  {
   "cell_type": "code",
   "execution_count": 31,
   "metadata": {},
   "outputs": [
    {
     "name": "stdout",
     "output_type": "stream",
     "text": "init weight (4, 4)\ninit weight (2, 4)\n\n[[6.439955  6.450388  6.917311  8.090076 ]\n [8.74585   7.1438437 9.3922615 5.6773705]\n [5.5143166 6.4914117 5.4618692 7.8498244]\n [6.770233  7.954364  7.7590814 7.8716264]]\n<NDArray 4x4 @cpu(0)>\n\n[[6.439955  6.450388  6.917311  8.090076 ]\n [8.74585   7.1438437 9.3922615 5.6773705]\n [5.5143166 6.4914117 5.4618692 7.8498244]\n [6.770233  7.954364  7.7590814 7.8716264]]\n<NDArray 4x4 @cpu(0)>\n"
    }
   ],
   "source": [
    "# 共享模型参数\n",
    "\n",
    "_net = nn.Sequential()\n",
    "with _net.name_scope():\n",
    "    _net.add(nn.Dense(4, in_units=4, activation='relu'))\n",
    "    _net.add(nn.Dense(4, in_units=4, activation='relu', params=_net[-1].params))\n",
    "    _net.add(nn.Dense(2, in_units=4))\n",
    "\n",
    "_net.initialize(_MyInit())\n",
    "print(_net[0].weight.data())\n",
    "print(_net[1].weight.data())"
   ]
  },
  {
   "cell_type": "code",
   "execution_count": null,
   "metadata": {},
   "outputs": [],
   "source": []
  }
 ]
}