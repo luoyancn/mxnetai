{
 "cells": [
  {
   "cell_type": "code",
   "execution_count": 1,
   "metadata": {},
   "outputs": [],
   "source": [
    "# 序列化通常是保存模型，读写模型，以及对参数的读写操作。\n",
    "\n",
    "from mxnet import nd\n",
    "\n",
    "x = nd.zeros(3)\n",
    "y = nd.zeros(4)\n",
    "\n",
    "filename = 'data/data1'\n",
    "nd.save(filename, [x, y])"
   ]
  },
  {
   "cell_type": "code",
   "execution_count": 2,
   "metadata": {},
   "outputs": [
    {
     "name": "stdout",
     "output_type": "stream",
     "text": [
      "\n",
      "[0. 0. 0.]\n",
      "<NDArray 3 @cpu(0)> \n",
      "[0. 0. 0. 0.]\n",
      "<NDArray 4 @cpu(0)>\n"
     ]
    }
   ],
   "source": [
    "# 读取信息\n",
    "a, b = nd.load(filename)\n",
    "print(a, b)"
   ]
  },
  {
   "cell_type": "code",
   "execution_count": 3,
   "metadata": {},
   "outputs": [],
   "source": [
    "# 读取gluon的模型和参数信息\n",
    "\n",
    "from mxnet.gluon import nn\n",
    "\n",
    "def get_net():\n",
    "    net = nn.Sequential()\n",
    "    with net.name_scope():\n",
    "        net.add(nn.Dense(10, activation='relu'))\n",
    "        net.add(nn.Dense(2))\n",
    "    return net\n",
    "\n",
    "\n",
    "net = get_net()\n",
    "net.initialize()\n",
    "x = nd.random.uniform(shape=(2, 10))\n",
    "net(x)\n",
    "\n",
    "datafile = 'data/net.params'\n",
    "#net.save_params(datafile) 替换为下面代码\n",
    "net.save_parameters(datafile)"
   ]
  },
  {
   "cell_type": "code",
   "execution_count": 10,
   "metadata": {},
   "outputs": [
    {
     "data": {
      "text/plain": [
       "\n",
       "[[ 0.00202204  0.00100273]\n",
       " [-0.00134863  0.00299659]]\n",
       "<NDArray 2x2 @cpu(0)>"
      ]
     },
     "execution_count": 10,
     "metadata": {},
     "output_type": "execute_result"
    }
   ],
   "source": [
    "import mxnet as mx\n",
    "\n",
    "net2 = get_net()\n",
    "net2.load_parameters(datafile, ctx=mx.cpu())\n",
    "net2(x)"
   ]
  },
  {
   "cell_type": "code",
   "execution_count": null,
   "metadata": {},
   "outputs": [],
   "source": []
  }
 ],
 "metadata": {
  "file_extension": ".py",
  "kernelspec": {
   "display_name": "Python 3",
   "language": "python",
   "name": "python3"
  },
  "language_info": {
   "codemirror_mode": {
    "name": "ipython",
    "version": 3
   },
   "file_extension": ".py",
   "mimetype": "text/x-python",
   "name": "python",
   "nbconvert_exporter": "python",
   "pygments_lexer": "ipython3",
   "version": "3.7.2"
  },
  "mimetype": "text/x-python",
  "name": "python",
  "npconvert_exporter": "python",
  "pygments_lexer": "ipython3",
  "version": 3
 },
 "nbformat": 4,
 "nbformat_minor": 2
}
