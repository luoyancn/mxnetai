{
 "nbformat": 4,
 "nbformat_minor": 2,
 "metadata": {
  "language_info": {
   "name": "python",
   "codemirror_mode": {
    "name": "ipython",
    "version": 3
   }
  },
  "orig_nbformat": 2,
  "file_extension": ".py",
  "mimetype": "text/x-python",
  "name": "python",
  "npconvert_exporter": "python",
  "pygments_lexer": "ipython3",
  "version": 3
 },
 "cells": [
  {
   "cell_type": "code",
   "execution_count": 2,
   "metadata": {},
   "outputs": [],
   "source": [
    "from mxnet.gluon import nn\n",
    "from mxnet import nd\n",
    "\n",
    "\n",
    "def dropout(x, drop_probability):\n",
    "    keep_probability = 1 - drop_probability\n",
    "    assert 0 <= keep_probability <= 1\n",
    "    if 0 == keep_probability:\n",
    "        return x.zeros_like()\n",
    "    mask = nd.random.uniform(0, 1.0, x.shape, ctx=x.context) < keep_probability\n",
    "    scale = 1 / keep_probability\n",
    "    return mask * x * scale"
   ]
  },
  {
   "cell_type": "code",
   "execution_count": 3,
   "metadata": {},
   "outputs": [
    {
     "data": {
      "text/plain": "\n[[ 0.  1.  2.  3.]\n [ 4.  5.  6.  7.]\n [ 8.  9. 10. 11.]\n [12. 13. 14. 15.]\n [16. 17. 18. 19.]]\n<NDArray 5x4 @cpu(0)>"
     },
     "execution_count": 3,
     "metadata": {},
     "output_type": "execute_result"
    }
   ],
   "source": [
    "a = nd.arange(20).reshape((5, 4))\n",
    "dropout(a, 0.0)"
   ]
  },
  {
   "cell_type": "code",
   "execution_count": 4,
   "metadata": {},
   "outputs": [
    {
     "data": {
      "text/plain": "\n[[ 0.  0.  0.  6.]\n [ 0. 10.  0.  0.]\n [16. 18. 20.  0.]\n [24. 26.  0.  0.]\n [ 0. 34.  0.  0.]]\n<NDArray 5x4 @cpu(0)>"
     },
     "execution_count": 4,
     "metadata": {},
     "output_type": "execute_result"
    }
   ],
   "source": [
    "dropout(a, 0.5)"
   ]
  },
  {
   "cell_type": "code",
   "execution_count": 5,
   "metadata": {},
   "outputs": [
    {
     "name": "stdout",
     "output_type": "stream",
     "text": "Downloading datasets\\train-images-idx3-ubyte.gz from https://apache-mxnet.s3-accelerate.dualstack.amazonaws.com/gluon/dataset/fashion-mnist/train-images-idx3-ubyte.gz...\nDownloading datasets\\train-labels-idx1-ubyte.gz from https://apache-mxnet.s3-accelerate.dualstack.amazonaws.com/gluon/dataset/fashion-mnist/train-labels-idx1-ubyte.gz...\nDownloading datasets\\t10k-images-idx3-ubyte.gz from https://apache-mxnet.s3-accelerate.dualstack.amazonaws.com/gluon/dataset/fashion-mnist/t10k-images-idx3-ubyte.gz...\nDownloading datasets\\t10k-labels-idx1-ubyte.gz from https://apache-mxnet.s3-accelerate.dualstack.amazonaws.com/gluon/dataset/fashion-mnist/t10k-labels-idx1-ubyte.gz...\n"
    }
   ],
   "source": [
    "import utils\n",
    "\n",
    "batch_size = 256\n",
    "train_data, test_data = utils.load_data_fashion_mnist(batch_size)"
   ]
  },
  {
   "cell_type": "code",
   "execution_count": 6,
   "metadata": {},
   "outputs": [],
   "source": [
    "num_inputs = 28 * 28\n",
    "num_outputs = 10\n",
    "num_hidden1 = 256\n",
    "num_hidden2 = 256\n",
    "weight_scale = .01\n",
    "\n",
    "w1 = nd.random.normal(shape=(num_inputs, num_hidden1), scale=weight_scale)\n",
    "b1 = nd.zeros(num_hidden1)\n",
    "\n",
    "w2 = nd.random.normal(shape=(num_hidden1, num_hidden2), scale=weight_scale)\n",
    "b2 = nd.zeros(num_hidden2)\n",
    "\n",
    "w3 = nd.random.normal(shape=(num_hidden2, num_outputs), scale=weight_scale)\n",
    "b3 = nd.zeros(num_outputs)\n",
    "\n",
    "params = [w1, b1, w2, b2, w3, b3]\n",
    "\n",
    "for param in params:\n",
    "    param.attach_grad()"
   ]
  },
  {
   "cell_type": "code",
   "execution_count": 7,
   "metadata": {},
   "outputs": [],
   "source": [
    "drop_prob1 = 0.2\n",
    "drop_prob2 = 0.5\n",
    "\n",
    "def net(x):\n",
    "    x = x.reshape((-1, num_inputs))\n",
    "    h1 = nd.relu(nd.dot(x, w1) + b1)\n",
    "    h1 = dropout(h1, drop_prob1)\n",
    "    h2 = nd.relu(nd.dot(h1, w2) + b2)\n",
    "    h2 = dropout(h2, drop_prob2)\n",
    "    return nd.dot(h2, w3) + b3"
   ]
  },
  {
   "cell_type": "code",
   "execution_count": 8,
   "metadata": {},
   "outputs": [
    {
     "name": "stdout",
     "output_type": "stream",
     "text": "Epoch 0, Loss :1.226745, Train acc 0.527543, Test acc 0.762695\nEpoch 1, Loss :0.607888, Train acc 0.775360, Test acc 0.827539\nEpoch 2, Loss :0.500961, Train acc 0.818861, Test acc 0.839648\nEpoch 3, Loss :0.457722, Train acc 0.833987, Test acc 0.832715\nEpoch 4, Loss :0.434216, Train acc 0.843201, Test acc 0.856641\n"
    }
   ],
   "source": [
    "from mxnet import autograd as ag\n",
    "from mxnet import gluon\n",
    "\n",
    "softmax_cross_entropy = gluon.loss.SoftmaxCrossEntropyLoss()\n",
    "learning_rate = .5\n",
    "\n",
    "for epoch in range(5):\n",
    "    train_loss = 0.\n",
    "    train_acc = 0.\n",
    "    for data, label in train_data:\n",
    "        with ag.record():\n",
    "            output = net(data)\n",
    "            loss = softmax_cross_entropy(output, label)\n",
    "        loss.backward()\n",
    "        utils.SGD(params, learning_rate/batch_size)\n",
    "        train_loss += nd.mean(loss).asscalar()\n",
    "        train_acc += utils.accuracy(output, label)\n",
    "    test_acc = utils.evaluate_accuracy(test_data, net)\n",
    "    print('Epoch %d, Loss :%f, Train acc %f, Test acc %f' % (\n",
    "        epoch, train_loss/len(train_data),\n",
    "        train_acc/len(train_data), test_acc))"
   ]
  },
  {
   "cell_type": "code",
   "execution_count": null,
   "metadata": {},
   "outputs": [],
   "source": []
  }
 ]
}