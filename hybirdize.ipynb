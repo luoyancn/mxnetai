{
 "nbformat": 4,
 "nbformat_minor": 2,
 "metadata": {
  "language_info": {
   "name": "python",
   "codemirror_mode": {
    "name": "ipython",
    "version": 3
   }
  },
  "orig_nbformat": 2,
  "file_extension": ".py",
  "mimetype": "text/x-python",
  "name": "python",
  "npconvert_exporter": "python",
  "pygments_lexer": "ipython3",
  "version": 3
 },
 "cells": [
  {
   "cell_type": "code",
   "execution_count": 1,
   "metadata": {},
   "outputs": [
    {
     "data": {
      "text/plain": "\n[[0.08811311 0.06387279]]\n<NDArray 1x2 @cpu(0)>"
     },
     "execution_count": 1,
     "metadata": {},
     "output_type": "execute_result"
    }
   ],
   "source": [
    "from mxnet.gluon import nn\n",
    "from mxnet import nd\n",
    "\n",
    "\n",
    "def get_net():\n",
    "    net = nn.HybridSequential()\n",
    "    with net.name_scope():\n",
    "        net.add(nn.Dense(256, activation='relu'),\n",
    "                nn.Dense(128, activation='relu'),\n",
    "                nn.Dense(2))\n",
    "    net.initialize()\n",
    "    return net\n",
    "\n",
    "\n",
    "x = nd.random_normal(shape=(1, 512))\n",
    "net = get_net()\n",
    "net(x)"
   ]
  },
  {
   "cell_type": "code",
   "execution_count": 2,
   "metadata": {},
   "outputs": [
    {
     "data": {
      "text/plain": "\n[[0.08811311 0.06387279]]\n<NDArray 1x2 @cpu(0)>"
     },
     "execution_count": 2,
     "metadata": {},
     "output_type": "execute_result"
    }
   ],
   "source": [
    "net.hybridize()\n",
    "net(x)"
   ]
  },
  {
   "cell_type": "code",
   "execution_count": 3,
   "metadata": {},
   "outputs": [
    {
     "name": "stdout",
     "output_type": "stream",
     "text": "Before hybridizing,: 0.312200 sec\nAfter hybridizing: 0.218381 sec\n"
    }
   ],
   "source": [
    "# Hybrid即符号式执行。符号式执行的python代码性能更高。\n",
    "# 在mxnet当中，只有继承自HybridBlock的计算层才会被优化，\n",
    "# 其他的会被跳过\n",
    "\n",
    "from time import time\n",
    "\n",
    "\n",
    "def bench(net, x):\n",
    "    start = time()\n",
    "    for i in range(1000):\n",
    "        y = net(x)\n",
    "    nd.waitall()\n",
    "    return time() - start\n",
    "\n",
    "\n",
    "net_ = get_net()\n",
    "print('Before hybridizing,: %f sec' %(bench(net_, x)))\n",
    "net_.hybridize()\n",
    "print('After hybridizing: %f sec' % (bench(net_, x)))"
   ]
  },
  {
   "cell_type": "code",
   "execution_count": 4,
   "metadata": {},
   "outputs": [
    {
     "name": "stdout",
     "output_type": "stream",
     "text": "{\n  \"nodes\": [\n    {\n      \"op\": \"null\", \n      \"name\": \"data\", \n      \"inputs\": []\n    }, \n    {\n      \"op\": \"null\", \n      \"name\": \"hybridsequential0_dense0_weight\", \n      \"attrs\": {\n        \"__dtype__\": \"0\", \n        \"__lr_mult__\": \"1.0\", \n        \"__shape__\": \"(256, 0)\", \n        \"__storage_type__\": \"0\", \n        \"__wd_mult__\": \"1.0\"\n      }, \n      \"inputs\": []\n    }, \n    {\n      \"op\": \"null\", \n      \"name\": \"hybridsequential0_dense0_bias\", \n      \"attrs\": {\n        \"__dtype__\": \"0\", \n        \"__init__\": \"zeros\", \n        \"__lr_mult__\": \"1.0\", \n        \"__shape__\": \"(256,)\", \n        \"__storage_type__\": \"0\", \n        \"__wd_mult__\": \"1.0\"\n      }, \n      \"inputs\": []\n    }, \n    {\n      \"op\": \"FullyConnected\", \n      \"name\": \"hybridsequential0_dense0_fwd\", \n      \"attrs\": {\n        \"flatten\": \"True\", \n        \"no_bias\": \"False\", \n        \"num_hidden\": \"256\"\n      }, \n      \"inputs\": [[0, 0, 0], [1, 0, 0], [2, 0, 0]]\n    }, \n    {\n      \"op\": \"Activation\", \n      \"name\": \"hybridsequential0_dense0_relu_fwd\", \n      \"attrs\": {\"act_type\": \"relu\"}, \n      \"inputs\": [[3, 0, 0]]\n    }, \n    {\n      \"op\": \"null\", \n      \"name\": \"hybridsequential0_dense1_weight\", \n      \"attrs\": {\n        \"__dtype__\": \"0\", \n        \"__lr_mult__\": \"1.0\", \n        \"__shape__\": \"(128, 0)\", \n        \"__storage_type__\": \"0\", \n        \"__wd_mult__\": \"1.0\"\n      }, \n      \"inputs\": []\n    }, \n    {\n      \"op\": \"null\", \n      \"name\": \"hybridsequential0_dense1_bias\", \n      \"attrs\": {\n        \"__dtype__\": \"0\", \n        \"__init__\": \"zeros\", \n        \"__lr_mult__\": \"1.0\", \n        \"__shape__\": \"(128,)\", \n        \"__storage_type__\": \"0\", \n        \"__wd_mult__\": \"1.0\"\n      }, \n      \"inputs\": []\n    }, \n    {\n      \"op\": \"FullyConnected\", \n      \"name\": \"hybridsequential0_dense1_fwd\", \n      \"attrs\": {\n        \"flatten\": \"True\", \n        \"no_bias\": \"False\", \n        \"num_hidden\": \"128\"\n      }, \n      \"inputs\": [[4, 0, 0], [5, 0, 0], [6, 0, 0]]\n    }, \n    {\n      \"op\": \"Activation\", \n      \"name\": \"hybridsequential0_dense1_relu_fwd\", \n      \"attrs\": {\"act_type\": \"relu\"}, \n      \"inputs\": [[7, 0, 0]]\n    }, \n    {\n      \"op\": \"null\", \n      \"name\": \"hybridsequential0_dense2_weight\", \n      \"attrs\": {\n        \"__dtype__\": \"0\", \n        \"__lr_mult__\": \"1.0\", \n        \"__shape__\": \"(2, 0)\", \n        \"__storage_type__\": \"0\", \n        \"__wd_mult__\": \"1.0\"\n      }, \n      \"inputs\": []\n    }, \n    {\n      \"op\": \"null\", \n      \"name\": \"hybridsequential0_dense2_bias\", \n      \"attrs\": {\n        \"__dtype__\": \"0\", \n        \"__init__\": \"zeros\", \n        \"__lr_mult__\": \"1.0\", \n        \"__shape__\": \"(2,)\", \n        \"__storage_type__\": \"0\", \n        \"__wd_mult__\": \"1.0\"\n      }, \n      \"inputs\": []\n    }, \n    {\n      \"op\": \"FullyConnected\", \n      \"name\": \"hybridsequential0_dense2_fwd\", \n      \"attrs\": {\n        \"flatten\": \"True\", \n        \"no_bias\": \"False\", \n        \"num_hidden\": \"2\"\n      }, \n      \"inputs\": [[8, 0, 0], [9, 0, 0], [10, 0, 0]]\n    }\n  ], \n  \"arg_nodes\": [0, 1, 2, 5, 6, 9, 10], \n  \"node_row_ptr\": [\n    0, \n    1, \n    2, \n    3, \n    4, \n    5, \n    6, \n    7, \n    8, \n    9, \n    10, \n    11, \n    12\n  ], \n  \"heads\": [[11, 0, 0]], \n  \"attrs\": {\"mxnet_version\": [\"int\", 10500]}\n}\n"
    }
   ],
   "source": [
    "from mxnet import sym\n",
    "\n",
    "x = sym.var('data')\n",
    "y = net(x)\n",
    "print(y.tojson())"
   ]
  },
  {
   "cell_type": "code",
   "execution_count": 5,
   "metadata": {},
   "outputs": [],
   "source": [
    "class HybirdNet(nn.HybridBlock):\n",
    "\n",
    "    def __init__(self, *args, **kwargs):\n",
    "        super(HybirdNet, self).__init__(*args, **kwargs)\n",
    "        with self.name_scope():\n",
    "            self.fc1 = nn.Dense(10)\n",
    "            self.fc2 = nn.Dense(2)\n",
    "\n",
    "    def hybrid_forward(self, F, x):\n",
    "        print(F)\n",
    "        print(x)\n",
    "        x = F.relu(self.fc1(x))\n",
    "        print(x)\n",
    "        return self.fc2(x)"
   ]
  },
  {
   "cell_type": "code",
   "execution_count": 6,
   "metadata": {},
   "outputs": [
    {
     "name": "stdout",
     "output_type": "stream",
     "text": "<module 'mxnet.ndarray' from 'D:\\\\workspaces\\\\py3\\\\lib\\\\site-packages\\\\mxnet\\\\ndarray\\\\__init__.py'>\n\n[[ 0.02184284 -0.31464806 -0.33364916 -0.6471778 ]]\n<NDArray 1x4 @cpu(0)>\n\n[[0.         0.02384557 0.         0.01206701 0.         0.02765122\n  0.         0.03072213 0.02471942 0.        ]]\n<NDArray 1x10 @cpu(0)>\n"
    }
   ],
   "source": [
    "net = HybirdNet()\n",
    "net.initialize()\n",
    "x = nd.random_normal(shape=(1, 4))\n",
    "y = net(x)"
   ]
  },
  {
   "cell_type": "code",
   "execution_count": 7,
   "metadata": {},
   "outputs": [
    {
     "name": "stdout",
     "output_type": "stream",
     "text": "<module 'mxnet.symbol' from 'D:\\\\workspaces\\\\py3\\\\lib\\\\site-packages\\\\mxnet\\\\symbol\\\\__init__.py'>\n<Symbol data>\n<Symbol hybirdnet0_relu0>\n"
    }
   ],
   "source": [
    "net.hybridize()\n",
    "y = net(x)"
   ]
  },
  {
   "cell_type": "code",
   "execution_count": null,
   "metadata": {},
   "outputs": [],
   "source": []
  }
 ]
}