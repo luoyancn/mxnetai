{
 "nbformat": 4,
 "nbformat_minor": 2,
 "metadata": {
  "language_info": {
   "name": "python",
   "codemirror_mode": {
    "name": "ipython",
    "version": 3
   }
  },
  "orig_nbformat": 2,
  "file_extension": ".py",
  "mimetype": "text/x-python",
  "name": "python",
  "npconvert_exporter": "python",
  "pygments_lexer": "ipython3",
  "version": 3
 },
 "cells": [
  {
   "cell_type": "code",
   "execution_count": 5,
   "metadata": {},
   "outputs": [],
   "source": [
    "from mxnet import nd\n",
    "from mxnet.gluon import nn\n",
    "from mxnet import gluon\n",
    "\n",
    "\n",
    "def puer_batch_norm(x, gamma, beta, eps=1e-5):\n",
    "    lenth=len(x.shape)\n",
    "    assert lenth in (2, 4)\n",
    "    # 全连接的情况\n",
    "    if 2 == lenth:\n",
    "        mean = x.mean(axis=0)\n",
    "        variance = ((x - mean) ** 2).mean(axis=0)\n",
    "    else:\n",
    "        # 2D卷积擦偶哦，针对每个通道求均值和方差\n",
    "        mean = x.mean(axis=(0,2,3), keepdims=True)\n",
    "        variance = ((x - mean) ** 2).mean(\n",
    "            axis=(0,2,3), keepdims=True)\n",
    "\n",
    "    # 均一化\n",
    "    x_hat = (x -mean) / nd.sqrt(variance + eps)\n",
    "    return gamma.reshape(\n",
    "        mean.shape) * x_hat +beta.reshape(mean.shape)"
   ]
  },
  {
   "cell_type": "code",
   "execution_count": 6,
   "metadata": {},
   "outputs": [],
   "source": [
    "a = nd.arange(6).reshape((3,2))"
   ]
  },
  {
   "cell_type": "code",
   "execution_count": 7,
   "metadata": {},
   "outputs": [
    {
     "data": {
      "text/plain": "\n[[-1.2247427 -1.2247427]\n [ 0.         0.       ]\n [ 1.2247427  1.2247427]]\n<NDArray 3x2 @cpu(0)>"
     },
     "execution_count": 7,
     "metadata": {},
     "output_type": "execute_result"
    }
   ],
   "source": [
    "puer_batch_norm(a, gamma=nd.array([1,1]), beta=nd.array([0,0]))"
   ]
  },
  {
   "cell_type": "code",
   "execution_count": 9,
   "metadata": {},
   "outputs": [
    {
     "name": "stdout",
     "output_type": "stream",
     "text": "\n[[[[ 0.  1.  2.]\n   [ 3.  4.  5.]\n   [ 6.  7.  8.]]\n\n  [[ 9. 10. 11.]\n   [12. 13. 14.]\n   [15. 16. 17.]]]]\n<NDArray 1x2x3x3 @cpu(0)>\n"
    }
   ],
   "source": [
    "b = nd.arange(18).reshape((1, 2, 3,3))\n",
    "print(b)"
   ]
  },
  {
   "cell_type": "code",
   "execution_count": 10,
   "metadata": {},
   "outputs": [
    {
     "data": {
      "text/plain": "\n[[[[-1.5491922  -1.1618942  -0.7745961 ]\n   [-0.38729805  0.          0.38729805]\n   [ 0.7745961   1.1618942   1.5491922 ]]\n\n  [[-1.5491922  -1.1618942  -0.7745961 ]\n   [-0.38729805  0.          0.38729805]\n   [ 0.7745961   1.1618942   1.5491922 ]]]]\n<NDArray 1x2x3x3 @cpu(0)>"
     },
     "execution_count": 10,
     "metadata": {},
     "output_type": "execute_result"
    }
   ],
   "source": [
    "puer_batch_norm(b, gamma=nd.array([1,1]), beta=nd.array([0,0]))"
   ]
  },
  {
   "cell_type": "code",
   "execution_count": 11,
   "metadata": {},
   "outputs": [],
   "source": [
    "def batch_norm(x, gamma, beta, is_training, moving_mean,\n",
    "    moving_variance, eps=1e-5, moving_momentum=0.9):\n",
    "    assert len(x.shape) in (2, 4)\n",
    "    if 2 == len(x.shape):\n",
    "        mean = x.mean(axis=0)\n",
    "        variance = ((x - mean) ** 2).mean(axis=0)\n",
    "    else:\n",
    "        mean = x.mean(axis=(0,2,3), keepdims=True)\n",
    "        variance = ((x - mean) ** 2).mean(\n",
    "            axis=(0, 2, 3), keepdims=True)\n",
    "        moving_mean = moving_mean.reshape(mean.shape)\n",
    "        moving_variance = moving_variance.reshape(mean.shape)\n",
    "    if is_training:\n",
    "        x_hat = (x - mean)/ nd.sqrt(variance + eps)\n",
    "        moving_mean[:] = moving_momentum * moving_mean + (\n",
    "            1.0 - moving_momentum) * mean\n",
    "        moving_variance[:] = moving_momentum * moving_variance + (\n",
    "            1.0 - moving_momentum) * variance\n",
    "    else:\n",
    "        x_hat = (x - moving_mean) / nd.sqrt(moving_variance + eps)\n",
    "\n",
    "    return gamma.reshape(\n",
    "        mean.shape) * x_hat + beta.reshape(mean.shape)"
   ]
  },
  {
   "cell_type": "code",
   "execution_count": 12,
   "metadata": {},
   "outputs": [],
   "source": [
    "import utils\n",
    "ctx = utils.try_gpu()"
   ]
  },
  {
   "cell_type": "code",
   "execution_count": 14,
   "metadata": {},
   "outputs": [],
   "source": [
    "weight_scale = .01\n",
    "c1 = 20\n",
    "w1 = nd.random_normal(shape=(c1, 1, 5, 5),\n",
    "                      scale=weight_scale, ctx=ctx)\n",
    "b1 = nd.zeros(c1, ctx=ctx)\n",
    "\n",
    "gamma1 = nd.random_normal(shape=c1, scale=weight_scale, ctx=ctx)\n",
    "beta1 = nd.random_normal(shape=c1, scale=weight_scale, ctx=ctx)\n",
    "moving_mean1 = nd.zeros(c1, ctx=ctx)\n",
    "moving_variance1 = nd.zeros(c1, ctx=ctx)\n",
    "\n",
    "c2 = 50\n",
    "w2 = nd.random_normal(shape=(c2, c1, 3, 3),\n",
    "                      scale=weight_scale, ctx=ctx)\n",
    "b2 = nd.zeros(c2, ctx=ctx)\n",
    "\n",
    "gamma2 = nd.random_normal(shape=c2, scale=weight_scale, ctx=ctx)\n",
    "beta2 = nd.random_normal(shape=c2, scale=weight_scale, ctx=ctx)\n",
    "moving_mean2 = nd.zeros(c2, ctx=ctx)\n",
    "moving_variance2 = nd.zeros(c2, ctx=ctx)\n",
    "\n",
    "o3 = 128\n",
    "w3 = nd.random_normal(shape=(1250, o3), scale=weight_scale, ctx=ctx)\n",
    "b3 = nd.zeros(o3, ctx=ctx)\n",
    "\n",
    "w4 = nd.random_normal(\n",
    "    shape=(w3.shape[1], 10), scale=weight_scale, ctx=ctx)\n",
    "b4 = nd.zeros(w4.shape[1], ctx=ctx)\n",
    "\n",
    "params = [w1, b2, gamma1, beta1,\n",
    "          w2, b2, gamma2, beta2,\n",
    "          w3, b3, w4, b4]\n",
    "\n",
    "for param in params:\n",
    "    param.attach_grad()"
   ]
  },
  {
   "cell_type": "code",
   "execution_count": 17,
   "metadata": {},
   "outputs": [],
   "source": [
    "def net(x, is_training=False, verbose=False):\n",
    "    x = x.as_in_context(w1.context)\n",
    "    h1_conv = nd.Convolution(data=x, weight=w1, bias=b1,\n",
    "                             kernel=w1.shape[2:], num_filter=c1)\n",
    "    h1_bn = batch_norm(\n",
    "        h1_conv, gamma1, beta1, is_training,\n",
    "        moving_mean1, moving_variance1)\n",
    "    h1_activation = nd.relu(h1_bn)\n",
    "    h1 = nd.Pooling(data=h1_activation, pool_type='max',\n",
    "                    kernel=(2,2), stride=(2,2))\n",
    "\n",
    "    h2_conv = nd.Convolution(data=h1, weight=w2, bias=b2,\n",
    "                             kernel=w2.shape[2:], num_filter=c2)\n",
    "    h2_bn = batch_norm(h2_conv, gamma2, beta2, is_training,\n",
    "                       moving_mean2, moving_variance2)\n",
    "    h2_activation = nd.relu(h2_bn)\n",
    "    h2 = nd.Pooling(data=h2_activation, pool_type='max',\n",
    "                    kernel=(2,2), stride=(2, 2))\n",
    "    h2 = nd.flatten(h2)\n",
    "\n",
    "    h3_linear = nd.dot(h2, w3) + b3\n",
    "    h3 = nd.relu(h3_linear)\n",
    "\n",
    "    h4_linear = nd.dot(h3, w4) + b4\n",
    "    if verbose:\n",
    "        print('1st conv block: ', h1.shape)\n",
    "        print('2nd conv block: ', h2.shape)\n",
    "        print('1st dense: ', h3.shape)\n",
    "        print('2nd dense: ', h4.shape)\n",
    "    return h4_linear"
   ]
  },
  {
   "cell_type": "code",
   "execution_count": 18,
   "metadata": {},
   "outputs": [
    {
     "name": "stdout",
     "output_type": "stream",
     "text": "Epoch 0, loss: 2.057808, train acc :0.223105, test acc: 0.705762\nEpoch 1, loss: 0.582053, train acc :0.778773, test acc: 0.833594\nEpoch 2, loss: 0.407154, train acc :0.849723, test acc: 0.862695\nEpoch 3, loss: 0.348530, train acc :0.870750, test acc: 0.866797\nEpoch 4, loss: 0.316601, train acc :0.882724, test acc: 0.884961\n"
    }
   ],
   "source": [
    "from mxnet import autograd\n",
    "from mxnet import gluon\n",
    "\n",
    "batch_size = 256\n",
    "train_data, test_data = utils.load_data_fashion_mnist(batch_size)\n",
    "softmax_cross_entropy = gluon.loss.SoftmaxCrossEntropyLoss()\n",
    "learning_rate = 0.2\n",
    "for epoch in range(5):\n",
    "    train_loss = 0.\n",
    "    train_acc = 0.\n",
    "    for data, label in train_data:\n",
    "        label = label.as_in_context(ctx)\n",
    "        with autograd.record():\n",
    "            output = net(data, is_training=True)\n",
    "            loss = softmax_cross_entropy(output, label)\n",
    "        loss.backward()\n",
    "        utils.SGD(params, learning_rate/batch_size)\n",
    "        train_loss += nd.mean(loss).asscalar()\n",
    "        train_acc += utils.accuracy(output, label)\n",
    "    test_acc = utils.evaluate_accuracy(test_data, net, ctx)\n",
    "    print('Epoch %d, loss: %f, train acc :%f, test acc: %f' % (\n",
    "        epoch, train_loss/len(train_data),\n",
    "        train_acc/len(train_data), test_acc))"
   ]
  },
  {
   "cell_type": "code",
   "execution_count": null,
   "metadata": {},
   "outputs": [],
   "source": []
  }
 ]
}