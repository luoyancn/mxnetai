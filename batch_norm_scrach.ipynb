{
 "nbformat": 4,
 "nbformat_minor": 2,
 "metadata": {
  "language_info": {
   "name": "python",
   "codemirror_mode": {
    "name": "ipython",
    "version": 3
   }
  },
  "orig_nbformat": 2,
  "file_extension": ".py",
  "mimetype": "text/x-python",
  "name": "python",
  "npconvert_exporter": "python",
  "pygments_lexer": "ipython3",
  "version": 3
 },
 "cells": [
  {
   "cell_type": "code",
   "execution_count": 3,
   "metadata": {},
   "outputs": [],
   "source": [
    "from mxnet import nd\n",
    "from mxnet.gluon import nn\n",
    "from mxnet import gluon\n",
    "\n",
    "\n",
    "def puer_batch_norm(x, gamma, beta, eps=1e-5):\n",
    "    lenth=len(x.shape)\n",
    "    assert lenth in (2, 4)\n",
    "    if 2 == lenth:\n",
    "        mean = x.mean(axis=0)\n",
    "        variance = ((x - mean) ** 2).mean(axis=2)\n",
    "    else:\n",
    "        mean = x.mean(axis=(0,2,3), keepdims=True)\n",
    "        variance = ((x - mean) ** 2).mean(axis=(0,2,3), keepdims=True)\n",
    "\n",
    "    x_hat = (x -mean) / nd.sqrt(variance + eps)\n",
    "    return gamma.reshape(mean.shape) * x_hat + beta.reshape(mean.shape)"
   ]
  },
  {
   "cell_type": "code",
   "execution_count": null,
   "metadata": {},
   "outputs": [],
   "source": []
  }
 ]
}