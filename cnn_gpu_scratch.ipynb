{
 "cells": [
  {
   "cell_type": "code",
   "execution_count": 1,
   "metadata": {},
   "outputs": [],
   "source": [
    "import mxnet as mx\n",
    "from mxnet import ndarray as nd"
   ]
  },
  {
   "cell_type": "code",
   "execution_count": 2,
   "metadata": {},
   "outputs": [
    {
     "name": "stdout",
     "output_type": "stream",
     "text": [
      "input \n",
      "[[[[0. 1. 2.]\n",
      "   [3. 4. 5.]\n",
      "   [6. 7. 8.]]]]\n",
      "<NDArray 1x1x3x3 @gpu(0)> \n",
      "weight: \n",
      "[[[[0. 1.]\n",
      "   [2. 3.]]]]\n",
      "<NDArray 1x1x2x2 @gpu(0)> \n",
      "bias \n",
      "[1.]\n",
      "<NDArray 1 @gpu(0)> \n",
      "output \n",
      "[[[[20. 26.]\n",
      "   [38. 44.]]]]\n",
      "<NDArray 1x1x2x2 @gpu(0)>\n"
     ]
    }
   ],
   "source": [
    "w = nd.arange(4, ctx=mx.gpu(0)).reshape((1,1,2,2))\n",
    "b = nd.array([1], ctx=mx.gpu(0))\n",
    "data = nd.arange(9, ctx=mx.gpu(0)).reshape((1,1,3,3))\n",
    "out = nd.Convolution(data, w, b, kernel=w.shape[2:],\n",
    "                     num_filter=w.shape[1])\n",
    "print('input', data, '\\nweight:', w, '\\nbias', b,\n",
    "     '\\noutput', out)"
   ]
  },
  {
   "cell_type": "code",
   "execution_count": 3,
   "metadata": {},
   "outputs": [
    {
     "name": "stdout",
     "output_type": "stream",
     "text": [
      "input \n",
      "[[[[0. 1. 2.]\n",
      "   [3. 4. 5.]\n",
      "   [6. 7. 8.]]]]\n",
      "<NDArray 1x1x3x3 @gpu(0)> \n",
      "weight: \n",
      "[[[[0. 1.]\n",
      "   [2. 3.]]]]\n",
      "<NDArray 1x1x2x2 @gpu(0)> \n",
      "bias \n",
      "[1.]\n",
      "<NDArray 1 @gpu(0)> \n",
      "output \n",
      "[[[[ 1.  9.]\n",
      "   [22. 44.]]]]\n",
      "<NDArray 1x1x2x2 @gpu(0)>\n"
     ]
    }
   ],
   "source": [
    "out = nd.Convolution(data, w, b, kernel=w.shape[2:],\n",
    "                     num_filter=w.shape[1], stride=(2,2), pad=(1,1))\n",
    "print('input', data, '\\nweight:', w, '\\nbias', b,\n",
    "     '\\noutput', out)"
   ]
  },
  {
   "cell_type": "code",
   "execution_count": 5,
   "metadata": {},
   "outputs": [
    {
     "name": "stdout",
     "output_type": "stream",
     "text": [
      "input \n",
      "[[[[ 0.  1.  2.]\n",
      "   [ 3.  4.  5.]\n",
      "   [ 6.  7.  8.]]\n",
      "\n",
      "  [[ 9. 10. 11.]\n",
      "   [12. 13. 14.]\n",
      "   [15. 16. 17.]]]]\n",
      "<NDArray 1x2x3x3 @gpu(0)> \n",
      "weight: \n",
      "[[[[0. 1.]\n",
      "   [2. 3.]]\n",
      "\n",
      "  [[4. 5.]\n",
      "   [6. 7.]]]]\n",
      "<NDArray 1x2x2x2 @gpu(0)> \n",
      "bias \n",
      "[1.]\n",
      "<NDArray 1 @gpu(0)> \n",
      "output \n",
      "[[[[269. 297.]\n",
      "   [353. 381.]]]]\n",
      "<NDArray 1x1x2x2 @gpu(0)>\n"
     ]
    }
   ],
   "source": [
    "w = nd.arange(8, ctx=mx.gpu(0)).reshape((1,2,2,2))\n",
    "data = nd.arange(18, ctx=mx.gpu(0)).reshape((1,2,3,3))\n",
    "out = nd.Convolution(data, w, b, kernel=w.shape[2:],\n",
    "                     num_filter=w.shape[0])\n",
    "print('input', data, '\\nweight:', w, '\\nbias', b,\n",
    "     '\\noutput', out)"
   ]
  },
  {
   "cell_type": "code",
   "execution_count": 6,
   "metadata": {},
   "outputs": [
    {
     "name": "stdout",
     "output_type": "stream",
     "text": [
      "input \n",
      "[[[[ 0.  1.  2.]\n",
      "   [ 3.  4.  5.]\n",
      "   [ 6.  7.  8.]]\n",
      "\n",
      "  [[ 9. 10. 11.]\n",
      "   [12. 13. 14.]\n",
      "   [15. 16. 17.]]]]\n",
      "<NDArray 1x2x3x3 @gpu(0)> \n",
      "weight: \n",
      "[[[[ 0.  1.]\n",
      "   [ 2.  3.]]\n",
      "\n",
      "  [[ 4.  5.]\n",
      "   [ 6.  7.]]]\n",
      "\n",
      "\n",
      " [[[ 8.  9.]\n",
      "   [10. 11.]]\n",
      "\n",
      "  [[12. 13.]\n",
      "   [14. 15.]]]]\n",
      "<NDArray 2x2x2x2 @gpu(0)> \n",
      "bias \n",
      "[1. 2.]\n",
      "<NDArray 2 @gpu(0)> \n",
      "output \n",
      "[[[[ 269.  297.]\n",
      "   [ 353.  381.]]\n",
      "\n",
      "  [[ 686.  778.]\n",
      "   [ 962. 1054.]]]]\n",
      "<NDArray 1x2x2x2 @gpu(0)>\n"
     ]
    }
   ],
   "source": [
    "w = nd.arange(16, ctx=mx.gpu(0)).reshape((2,2,2,2))\n",
    "data = nd.arange(18, ctx=mx.gpu(0)).reshape((1,2,3,3))\n",
    "b = nd.array([1,2],ctx=mx.gpu(0))\n",
    "out = nd.Convolution(data, w, b, kernel=w.shape[2:],\n",
    "                     num_filter=w.shape[0])\n",
    "print('input', data, '\\nweight:', w, '\\nbias', b,\n",
    "     '\\noutput', out)"
   ]
  },
  {
   "cell_type": "code",
   "execution_count": 7,
   "metadata": {},
   "outputs": [
    {
     "name": "stdout",
     "output_type": "stream",
     "text": [
      "data \n",
      "[[[[ 0.  1.  2.]\n",
      "   [ 3.  4.  5.]\n",
      "   [ 6.  7.  8.]]\n",
      "\n",
      "  [[ 9. 10. 11.]\n",
      "   [12. 13. 14.]\n",
      "   [15. 16. 17.]]]]\n",
      "<NDArray 1x2x3x3 @gpu(0)> \n",
      "max pooling: \n",
      "[[[[ 4.  5.]\n",
      "   [ 7.  8.]]\n",
      "\n",
      "  [[13. 14.]\n",
      "   [16. 17.]]]]\n",
      "<NDArray 1x2x2x2 @gpu(0)> \n",
      "avg poolling \n",
      "[[[[ 2.  3.]\n",
      "   [ 5.  6.]]\n",
      "\n",
      "  [[11. 12.]\n",
      "   [14. 15.]]]]\n",
      "<NDArray 1x2x2x2 @gpu(0)>\n"
     ]
    }
   ],
   "source": [
    "data = nd.arange(18, ctx=mx.gpu(0)).reshape((1,2,3,3))\n",
    "max_pool = nd.Pooling(data=data, pool_type='max', kernel=(2,2))\n",
    "avg_pool = nd.Pooling(data=data, pool_type='avg', kernel=(2,2))\n",
    "print('data', data, '\\nmax pooling:', max_pool, '\\navg poolling', avg_pool)"
   ]
  },
  {
   "cell_type": "code",
   "execution_count": 24,
   "metadata": {},
   "outputs": [],
   "source": [
    "try:\n",
    "    ctx = mx.gpu()\n",
    "    _ = nd.zeros((1,), ctx=ctx)\n",
    "except:\n",
    "    ctx = mx.cpu()"
   ]
  },
  {
   "cell_type": "code",
   "execution_count": 25,
   "metadata": {},
   "outputs": [],
   "source": [
    "weight_scale = .01\n",
    "num_outputs = 10\n",
    "\n",
    "# channle = 20, kernel = 5 * 5\n",
    "w1 = nd.random_normal(shape=(20, 1, 5, 5), scale=weight_scale, ctx=ctx)\n",
    "b1 = nd.zeros(w1.shape[0], ctx=ctx)\n",
    "\n",
    "# channel = 50, kernel = 3 * 3\n",
    "w2 = nd.random_normal(shape=(50, 20, 3, 3), scale=weight_scale, ctx=ctx)\n",
    "b2 = nd.zeros(w2.shape[0], ctx=ctx)\n",
    "\n",
    "w3 = nd.random_normal(shape=(1250, 128), scale=weight_scale, ctx=ctx)\n",
    "b3 = nd.zeros(w3.shape[1], ctx=ctx)\n",
    "\n",
    "w4 = nd.random_normal(shape=(w3.shape[1], 10), scale=weight_scale, ctx=ctx)\n",
    "b4 = nd.zeros(w4.shape[1], ctx=ctx)\n",
    "\n",
    "params = [w1, b1, w2, b2, w3, b3, w4, b4]\n",
    "\n",
    "for param in params:\n",
    "    param.attach_grad()"
   ]
  },
  {
   "cell_type": "code",
   "execution_count": 32,
   "metadata": {},
   "outputs": [],
   "source": [
    "def net(x, verbose=False):\n",
    "    x = x.as_in_context(w1.context)\n",
    "    # 第一层卷积\n",
    "    h1_conv = nd.Convolution(\n",
    "        data=x, weight=w1, bias=b1, kernel=w1.shape[2:], num_filter=w1.shape[0])\n",
    "\n",
    "    h1_activation = nd.relu(h1_conv)\n",
    "    h1 = nd.Pooling(\n",
    "        data=h1_activation, pool_type='max', kernel=(2,2), stride=(2,2))\n",
    "\n",
    "    # 第二层卷积\n",
    "    h2_conv = nd.Convolution(\n",
    "        data=h1, weight=w2, bias=b2, kernel=w2.shape[2:], num_filter=w2.shape[0])\n",
    "\n",
    "    h2_activation = nd.relu(h2_conv)\n",
    "    h2 = nd.Pooling(\n",
    "        data=h2_activation, pool_type='max', kernel=(2,2), stride=(2,2))\n",
    "\n",
    "    h2 = nd.flatten(h2)\n",
    "\n",
    "    # 第一层全连接\n",
    "    h3_linear = nd.dot(h2, w3) + b3\n",
    "    h3 = nd.relu(h3_linear)\n",
    "\n",
    "    # 第二层全连接\n",
    "    h4 = nd.dot(h3, w4) + b4\n",
    "    if verbose:\n",
    "        print('1st conv block:', h1.shape)\n",
    "        print('2nd conv block:', h2.shape)\n",
    "        print('1st dense:', h3.shape)\n",
    "        print('2nd dense:', h4.shape)\n",
    "    return h4"
   ]
  },
  {
   "cell_type": "code",
   "execution_count": 40,
   "metadata": {},
   "outputs": [],
   "source": [
    "batch_size = 256\n",
    "\n",
    "from mxnet import gluon"
   ]
  },
  {
   "cell_type": "code",
   "execution_count": 41,
   "metadata": {},
   "outputs": [
    {
     "name": "stdout",
     "output_type": "stream",
     "text": [
      "1st conv block: (256, 20, 12, 12)\n",
      "2nd conv block: (256, 1250)\n",
      "1st dense: (256, 128)\n",
      "2nd dense: (256, 10)\n"
     ]
    }
   ],
   "source": [
    "def load_data_fashion_mnist(batch_size):\n",
    "    \"\"\"download the fashion mnist dataest and then load into memory\"\"\"\n",
    "    def transform_mnist(data, label):\n",
    "    # change data from height x weight x channel to channel x height x weight\n",
    "        return nd.transpose(\n",
    "            data.astype('float32'), (2,0,1))/255, label.astype('float32')\n",
    "\n",
    "    mnist_train = gluon.data.vision.FashionMNIST(\n",
    "        train=True, transform=transform_mnist)\n",
    "    mnist_test = gluon.data.vision.FashionMNIST(\n",
    "        train=False, transform=transform_mnist)\n",
    "    train_data = gluon.data.DataLoader(\n",
    "        mnist_train, batch_size, shuffle=True)\n",
    "    test_data = gluon.data.DataLoader(\n",
    "        mnist_test, batch_size, shuffle=False)\n",
    "    return (train_data, test_data)\n",
    "\n",
    "\n",
    "train_data_, test_data_ = load_data_fashion_mnist(batch_size)\n",
    "\n",
    "for data, _ in train_data_:\n",
    "    net(data, verbose=True)\n",
    "    break"
   ]
  },
  {
   "cell_type": "code",
   "execution_count": 46,
   "metadata": {},
   "outputs": [],
   "source": [
    "import utils\n",
    "from mxnet import autograd\n",
    "\n",
    "def evaluate_accuracy(data_iterator, net, ctx=mx.cpu()):\n",
    "    acc = 0.\n",
    "    for data, label in data_iterator:\n",
    "        output = net(data.as_in_context(ctx))\n",
    "        acc += utils.accuracy(output, label.as_in_context(ctx))\n",
    "    return acc / len(data_iterator)"
   ]
  },
  {
   "cell_type": "code",
   "execution_count": 47,
   "metadata": {},
   "outputs": [
    {
     "name": "stdout",
     "output_type": "stream",
     "text": [
      "Epoch 0. Loss: 0.513204, Train acc 0.805624, Test acc 0.841797\n",
      "Epoch 1. Loss: 0.447548, Train acc 0.833167, Test acc 0.856250\n",
      "Epoch 2. Loss: 0.405360, Train acc 0.851513, Test acc 0.864746\n",
      "Epoch 3. Loss: 0.376168, Train acc 0.861381, Test acc 0.871387\n",
      "Epoch 4. Loss: 0.356211, Train acc 0.869492, Test acc 0.880859\n"
     ]
    }
   ],
   "source": [
    "softmax_cross_entropy = gluon.loss.SoftmaxCrossEntropyLoss()\n",
    "\n",
    "learning_rate = .2\n",
    "\n",
    "for epoch in range(5):\n",
    "    train_loss = 0.\n",
    "    train_acc = 0.\n",
    "    for data, label in train_data_:\n",
    "        label = label.as_in_context(ctx)\n",
    "        with autograd.record():\n",
    "            output = net(data)\n",
    "            loss = softmax_cross_entropy(output, label)\n",
    "        loss.backward()\n",
    "        utils.SGD(params, learning_rate/batch_size)\n",
    "\n",
    "        train_loss += nd.mean(loss).asscalar()\n",
    "        train_acc += utils.accuracy(output, label)\n",
    "\n",
    "    test_acc = evaluate_accuracy(test_data_, net, ctx)\n",
    "    print(\"Epoch %d. Loss: %f, Train acc %f, Test acc %f\" % (\n",
    "            epoch, train_loss/len(train_data), train_acc/len(train_data), test_acc))"
   ]
  },
  {
   "cell_type": "code",
   "execution_count": null,
   "metadata": {},
   "outputs": [],
   "source": []
  }
 ],
 "metadata": {
  "kernelspec": {
   "display_name": "Python 3",
   "language": "python",
   "name": "python3"
  },
  "language_info": {
   "codemirror_mode": {
    "name": "ipython",
    "version": 3
   },
   "file_extension": ".py",
   "mimetype": "text/x-python",
   "name": "python",
   "nbconvert_exporter": "python",
   "pygments_lexer": "ipython3",
   "version": "3.7.2"
  }
 },
 "nbformat": 4,
 "nbformat_minor": 2
}
