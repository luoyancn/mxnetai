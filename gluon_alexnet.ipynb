{
 "nbformat": 4,
 "nbformat_minor": 2,
 "metadata": {
  "language_info": {
   "name": "python",
   "codemirror_mode": {
    "name": "ipython",
    "version": 3
   }
  },
  "orig_nbformat": 2,
  "file_extension": ".py",
  "mimetype": "text/x-python",
  "name": "python",
  "npconvert_exporter": "python",
  "pygments_lexer": "ipython3",
  "version": 3
 },
 "cells": [
  {
   "cell_type": "code",
   "execution_count": 1,
   "metadata": {},
   "outputs": [],
   "source": [
    "from mxnet.gluon import nn\n",
    "\n",
    "\n",
    "net = nn.Sequential()\n",
    "\n",
    "with net.name_scope():\n",
    "    net.add(nn.Conv2D(channels=96, kernel_size=11, strides=4, activation='relu'))\n",
    "    net.add(nn.MaxPool2D(pool_size=3, strides=2))\n",
    "\n",
    "    net.add(nn.Conv2D(channels=256, kernel_size=5, padding=2, activation='relu'))\n",
    "    net.add(nn.MaxPool2D(pool_size=3, strides=2))\n",
    "\n",
    "    net.add(nn.Conv2D(channels=384, kernel_size=3, padding=1, activation='relu'))\n",
    "    net.add(nn.Conv2D(channels=384, kernel_size=3, padding=1, activation='relu'))\n",
    "    net.add(nn.Conv2D(channels=256, kernel_size=3, padding=1, activation='relu'))\n",
    "    net.add(nn.MaxPool2D(pool_size=3, strides=2))\n",
    "\n",
    "    net.add(nn.Flatten())\n",
    "    net.add(nn.Dense(4096, activation='relu'))\n",
    "    net.add(nn.Dropout(.5))\n",
    "\n",
    "    net.add(nn.Dense(4096, activation='relu'))\n",
    "    net.add(nn.Dropout(.5))\n",
    "\n",
    "    # 如果是使用imagenet数据集，则dense参数应该为1000\n",
    "    # 此处使用的数据集为比较小的数据集\n",
    "    net.add(nn.Dense(10))"
   ]
  },
  {
   "cell_type": "code",
   "execution_count": 6,
   "metadata": {},
   "outputs": [],
   "source": [
    "import utils\n",
    "from mxnet import image\n",
    "\n",
    "def transform(data, label):\n",
    "    data = image.imresize(data, 224, 224)\n",
    "    return utils.transform_mnist(data, label)\n",
    "\n",
    "\n",
    "batch_size = 64\n",
    "train_data, test_data = utils.load_data_fashion_mnist(\n",
    "    batch_size, transform=transform)"
   ]
  },
  {
   "cell_type": "code",
   "execution_count": 8,
   "metadata": {},
   "outputs": [],
   "source": [
    "from mxnet import autograd\n",
    "from mxnet import gluon\n",
    "from mxnet import nd\n",
    "from mxnet import init\n",
    "\n",
    "ctx = utils.try_gpu()\n",
    "net.initialize(ctx=ctx, init=init.Xavier())\n",
    "\n",
    "softmax_cross_entropy = gluon.loss.SoftmaxCrossEntropyLoss()\n",
    "\n",
    "trainer = gluon.Trainer(net.collect_params(), 'sgd', {'learning_rate':0.01})\n",
    "\n",
    "for epoch in range(1):\n",
    "    train_loss = 0.\n",
    "    train_acc = 0.\n",
    "    for data, label in train_data:\n",
    "        label = label.as_in_context(ctx)\n",
    "        with autograd.record():\n",
    "            output = net(data.as_in_context(ctx))\n",
    "            loss = softmax_cross_entropy(output, label)\n",
    "        loss.backward()\n",
    "        trainer.step(batch_size)\n",
    "\n",
    "        train_loss += nd.mean(loss).asscalar()\n",
    "        train_acc += utils.accuracy(output, label)\n",
    "\n",
    "    test_acc = utils.evaluate_accuracy(test_data, net, ctx)\n",
    "    print('Epoch %d, Loss %f, Train acc %f, Test acc %f ' % (\n",
    "        epoch, train_loss/len(train_data),\n",
    "        train_acc/len(train_data), test_acc))"
   ]
  },
  {
   "cell_type": "code",
   "execution_count": null,
   "metadata": {},
   "outputs": [],
   "source": []
  }
 ]
}