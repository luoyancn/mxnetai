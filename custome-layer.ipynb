{
 "cells": [
  {
   "cell_type": "code",
   "execution_count": 1,
   "metadata": {},
   "outputs": [
    {
     "data": {
      "text/plain": [
       "\n",
       "[-2. -1.  0.  1.  2.]\n",
       "<NDArray 5 @cpu(0)>"
      ]
     },
     "execution_count": 1,
     "metadata": {},
     "output_type": "execute_result"
    }
   ],
   "source": [
    "# 使用gluon自定义计算层，使用ndarray实现，可以被重复调用\n",
    "\n",
    "from mxnet import nd\n",
    "from mxnet.gluon import nn\n",
    "\n",
    "\n",
    "class CenteredLayer(nn.Block):\n",
    "\n",
    "    def __init__(self, *args, **kwargs):\n",
    "        super(CenteredLayer, self).__init__(*args, **kwargs)\n",
    "\n",
    "    def forward(self, x):\n",
    "        return x - x.mean()\n",
    "\n",
    "\n",
    "layer = CenteredLayer()\n",
    "layer.initialize()\n",
    "layer(nd.array([1,2,3,4,5]))"
   ]
  },
  {
   "cell_type": "code",
   "execution_count": 2,
   "metadata": {},
   "outputs": [],
   "source": [
    "net = nn.Sequential()\n",
    "with net.name_scope():\n",
    "    net.add(nn.Dense(128))\n",
    "    net.add(nn.Dense(10))\n",
    "    net.add(CenteredLayer())\n",
    "\n",
    "\n",
    "net.initialize()\n",
    "y = net(nd.random.uniform(shape=(4, 8)))"
   ]
  },
  {
   "cell_type": "code",
   "execution_count": 3,
   "metadata": {},
   "outputs": [
    {
     "data": {
      "text/plain": [
       "Parameter block1_exciting_parameter_yay (shape=(3, 3), dtype=<class 'numpy.float32'>)"
      ]
     },
     "execution_count": 3,
     "metadata": {},
     "output_type": "execute_result"
    }
   ],
   "source": [
    "from mxnet import gluon\n",
    "\n",
    "params = gluon.Parameter('exciting_parameter_yay', shape=(3,3))\n",
    "params.initialize()\n",
    "\n",
    "pd = gluon.ParameterDict(prefix='block1_')\n",
    "pd.get('exciting_parameter_yay', shape=(3,3))"
   ]
  },
  {
   "cell_type": "code",
   "execution_count": 4,
   "metadata": {},
   "outputs": [
    {
     "data": {
      "text/plain": [
       "\n",
       "[[0.         0.         0.03019281 0.09594411 0.13613266]\n",
       " [0.         0.         0.00460232 0.10275272 0.15692511]]\n",
       "<NDArray 2x5 @cpu(0)>"
      ]
     },
     "execution_count": 4,
     "metadata": {},
     "output_type": "execute_result"
    }
   ],
   "source": [
    "class Dense(nn.Block):\n",
    "\n",
    "    def __init__(self, units, in_units, *args, **kwargs):\n",
    "        super(Dense, self).__init__(*args, **kwargs)\n",
    "        with self.name_scope():\n",
    "            self.weight = self.params.get('wegith', shape=(in_units, units))\n",
    "            self.bias = self.params.get('bias', shape=(units,))\n",
    "\n",
    "    def forward(self, x):\n",
    "        linear = nd.dot(x, self.weight.data()) + self.bias.data()\n",
    "        return nd.relu(linear)\n",
    "\n",
    "\n",
    "dense = Dense(5, in_units=10, prefix='o_my_dense')\n",
    "\n",
    "dense.initialize()\n",
    "dense(nd.random.uniform(shape=(2, 10)))"
   ]
  },
  {
   "cell_type": "code",
   "execution_count": 5,
   "metadata": {},
   "outputs": [
    {
     "data": {
      "text/plain": [
       "\n",
       "[[0.         0.06250843]\n",
       " [0.00077505 0.08170695]]\n",
       "<NDArray 2x2 @cpu(0)>"
      ]
     },
     "execution_count": 5,
     "metadata": {},
     "output_type": "execute_result"
    }
   ],
   "source": [
    "net = nn.Sequential()\n",
    "with net.name_scope():\n",
    "    net.add(Dense(32, in_units=64))\n",
    "    net.add(Dense(2, in_units=32))\n",
    "\n",
    "net.initialize()\n",
    "net(nd.random.uniform(shape=(2, 64)))"
   ]
  },
  {
   "cell_type": "code",
   "execution_count": null,
   "metadata": {},
   "outputs": [],
   "source": []
  }
 ],
 "metadata": {
  "file_extension": ".py",
  "kernelspec": {
   "display_name": "Python 3",
   "language": "python",
   "name": "python3"
  },
  "language_info": {
   "codemirror_mode": {
    "name": "ipython",
    "version": 3
   },
   "file_extension": ".py",
   "mimetype": "text/x-python",
   "name": "python",
   "nbconvert_exporter": "python",
   "pygments_lexer": "ipython3",
   "version": "3.7.2"
  },
  "mimetype": "text/x-python",
  "name": "python",
  "npconvert_exporter": "python",
  "pygments_lexer": "ipython3",
  "version": 3
 },
 "nbformat": 4,
 "nbformat_minor": 2
}
