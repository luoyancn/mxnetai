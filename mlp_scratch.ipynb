{
 "cells": [
  {
   "cell_type": "code",
   "execution_count": 5,
   "metadata": {},
   "outputs": [],
   "source": [
    "from mxnet import autograd as ag\n",
    "from mxnet import gluon\n",
    "from mxnet import ndarray as nd\n",
    "\n",
    "import utils\n",
    "\n",
    "num_inputs = 28 * 28\n",
    "num_outputs = 10\n",
    "\n",
    "num_hidden = 256\n",
    "weight_scale = .01\n",
    "w1 = nd.random_normal(shape=(num_inputs, num_hidden), scale=weight_scale) # scale表示标准差\n",
    "b1 = nd.zeros(num_hidden)\n",
    "\n",
    "w2 = nd.random_normal(shape=(num_hidden, num_outputs), scale=weight_scale)\n",
    "b2 = nd.zeros(num_outputs)\n",
    "\n",
    "params = [w1, b1, w2, b2]\n",
    "\n",
    "for param in params:\n",
    "    param.attach_grad()"
   ]
  },
  {
   "cell_type": "code",
   "execution_count": 13,
   "metadata": {},
   "outputs": [],
   "source": [
    "def relu(x):\n",
    "    return nd.maximum(x, 0) # 自定义ReLU的实现"
   ]
  },
  {
   "cell_type": "code",
   "execution_count": 14,
   "metadata": {},
   "outputs": [],
   "source": [
    "# 定义模型，将计算层与激活函数串联起来\n",
    "def net(x):\n",
    "    x = x.reshape((-1, num_inputs))\n",
    "    h1 = relu(nd.dot(x, w1) + b1) # 只对第一层进行激活操作\n",
    "    output = nd.dot(h1, w2) + b2  # 输出层不做激活操作\n",
    "    return output"
   ]
  },
  {
   "cell_type": "code",
   "execution_count": 16,
   "metadata": {},
   "outputs": [
    {
     "name": "stdout",
     "output_type": "stream",
     "text": [
      "Epoch 0, Loss: 0.814076, Train acc 0.692320, Test acc 0.820215\n",
      "Epoch 1, Loss: 0.492604, Train acc 0.816777, Test acc 0.842578\n",
      "Epoch 2, Loss: 0.431675, Train acc 0.840680, Test acc 0.859668\n",
      "Epoch 3, Loss: 0.400527, Train acc 0.852682, Test acc 0.861914\n",
      "Epoch 4, Loss: 0.378054, Train acc 0.860129, Test acc 0.869629\n"
     ]
    }
   ],
   "source": [
    "# 由于自定义的softmax和交叉熵数值不稳定，因此直接使用内置的\n",
    "softmax_corss_entropy = gluon.loss.SoftmaxCrossEntropyLoss()\n",
    "\n",
    "learning_rate = .5\n",
    "batch_size = 256\n",
    "train_data, test_data = utils.mnistfashion_data(batch_size)\n",
    "\n",
    "for epoch in range(5):\n",
    "    train_loss = 0.\n",
    "    train_acc = 0.\n",
    "    for data, label in train_data:\n",
    "        with ag.record():\n",
    "            output = net(data)\n",
    "            loss = softmax_corss_entropy(output, label)\n",
    "        loss.backward()\n",
    "        utils.SGD(params, learning_rate/batch_size)\n",
    "        train_loss += nd.mean(loss).asscalar()\n",
    "        train_acc += utils.accuracy(output, label)\n",
    "    test_acc = utils.evaluate_accuracy(test_data, net)\n",
    "    print('Epoch %d, Loss: %f, Train acc %f, Test acc %f' %(\n",
    "        epoch, train_loss/len(train_data), train_acc/len(train_data), test_acc))"
   ]
  },
  {
   "cell_type": "code",
   "execution_count": null,
   "metadata": {},
   "outputs": [],
   "source": []
  }
 ],
 "metadata": {
  "kernelspec": {
   "display_name": "Python 3",
   "language": "python",
   "name": "python3"
  },
  "language_info": {
   "codemirror_mode": {
    "name": "ipython",
    "version": 3
   },
   "file_extension": ".py",
   "mimetype": "text/x-python",
   "name": "python",
   "nbconvert_exporter": "python",
   "pygments_lexer": "ipython3",
   "version": "3.7.4"
  }
 },
 "nbformat": 4,
 "nbformat_minor": 2
}
