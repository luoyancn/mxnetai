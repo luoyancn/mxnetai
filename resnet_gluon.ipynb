{
 "nbformat": 4,
 "nbformat_minor": 2,
 "metadata": {
  "language_info": {
   "name": "python",
   "codemirror_mode": {
    "name": "ipython",
    "version": 3
   }
  },
  "orig_nbformat": 2,
  "file_extension": ".py",
  "mimetype": "text/x-python",
  "name": "python",
  "npconvert_exporter": "python",
  "pygments_lexer": "ipython3",
  "version": 3
 },
 "cells": [
  {
   "cell_type": "code",
   "execution_count": 2,
   "metadata": {},
   "outputs": [],
   "source": [
    "# ResNet，即深度残差网络，有效的解决了深度卷积神经网络训练难的问题\n",
    "# 由于在误差反向传播的过程中，梯度的变化越来越小，因此，权重的更新\n",
    "# 变慢，会导致远离损失函数的计算层训练缓慢。\n",
    "# Resnet的思路是通过增加跨层的连接来解决梯度反向传播过程当中逐渐变小的问题\n",
    "\n",
    "# Resnet沿用3×3的卷积操作，但是在卷积和池化之间加入batch_norm进行加速训练\n",
    "# 每次跨层连接，跨越连接2层卷积。如果输入与输出的通道不一样，则使用额外的一个\n",
    "# 1×1的卷积做铜套变幻，并使用strides=2来讲长宽减半\n",
    "\n",
    "\n",
    "from mxnet.gluon import nn\n",
    "from mxnet import nd\n",
    "\n",
    "class Residual(nn.Block):\n",
    "\n",
    "    def __init__(self, channels, same_shape=True, *args, **kwargs):\n",
    "        super(Residual, self).__init__(*args, **kwargs)\n",
    "        self.same_shape = same_shape\n",
    "        with self.name_scope():\n",
    "            strides = 1 if same_shape else 2\n",
    "            self.conv1 = nn.Conv2D(channels, kernel_size=3, padding=1, strides=strides)\n",
    "            self.bn1 = nn.BatchNorm()\n",
    "            self.conv2 = nn.Conv2D(channels, kernel_size=3, padding=1)\n",
    "            self.bn2 = nn.BatchNorm()\n",
    "            if not same_shape:\n",
    "                self.conv3 = nn.Conv2D(channels, kernel_size=1, strides=strides)\n",
    "\n",
    "    def forward(self, x):\n",
    "        out = nd.relu(self.bn1(self.conv1(x)))\n",
    "        out = self.bn2(self.conv2(out))\n",
    "        if not self.same_shape:\n",
    "            x = self.conv3(x)\n",
    "        return nd.relu(out + x)"
   ]
  },
  {
   "cell_type": "code",
   "execution_count": 3,
   "metadata": {},
   "outputs": [
    {
     "data": {
      "text/plain": "(4, 3, 6, 6)"
     },
     "execution_count": 3,
     "metadata": {},
     "output_type": "execute_result"
    }
   ],
   "source": [
    "blk = Residual(3)\n",
    "blk.initialize()\n",
    "x = nd.random_uniform(shape=(4, 3, 6, 6))\n",
    "blk(x).shape"
   ]
  },
  {
   "cell_type": "code",
   "execution_count": 4,
   "metadata": {},
   "outputs": [
    {
     "data": {
      "text/plain": "(4, 8, 3, 3)"
     },
     "execution_count": 4,
     "metadata": {},
     "output_type": "execute_result"
    }
   ],
   "source": [
    "blk2 = Residual(8, same_shape=False)\n",
    "blk2.initialize()\n",
    "blk2(x).shape"
   ]
  },
  {
   "cell_type": "code",
   "execution_count": 5,
   "metadata": {},
   "outputs": [],
   "source": [
    "class ResNet(nn.Block):\n",
    "\n",
    "    def __init__(self, num_classes, verbose=False, *args, **kwargs):\n",
    "        super(ResNet, self).__init__(*args, **kwargs)\n",
    "        self.verbose = verbose\n",
    "        with self.name_scope():\n",
    "            b1 = nn.Conv2D(64, kernel_size=7, strides=2)\n",
    "\n",
    "            b2 = nn.Sequential()\n",
    "            b2.add(nn.MaxPool2D(pool_size=3, strides=2),\n",
    "                   Residual(64), Residual(64))\n",
    "\n",
    "            b3 = nn.Sequential()\n",
    "            b3.add(Residual(128, same_shape=False), Residual(128))\n",
    "\n",
    "            b4 = nn.Sequential()\n",
    "            b4.add(Residual(256, same_shape=False), Residual(256))\n",
    "\n",
    "            b5 = nn.Sequential()\n",
    "            b5.add(Residual(512, same_shape=False), Residual(512))\n",
    "\n",
    "            b6 = nn.Sequential()\n",
    "            b6.add(nn.AvgPool2D(pool_size=3), nn.Dense(num_classes))\n",
    "\n",
    "            self.net = nn.Sequential()\n",
    "            self.net.add(b1, b2, b3, b4, b5, b6)\n",
    "\n",
    "    def forward(self, x):\n",
    "        out = x\n",
    "        for i, b in enumerate(self.net):\n",
    "            out = b(out)\n",
    "            if self.verbose:\n",
    "                print('Block %d output: %s' % (i + 1, out.shape))\n",
    "        return out"
   ]
  },
  {
   "cell_type": "code",
   "execution_count": 6,
   "metadata": {},
   "outputs": [
    {
     "name": "stdout",
     "output_type": "stream",
     "text": "Block 1 output: (4, 64, 45, 45)\nBlock 2 output: (4, 64, 22, 22)\nBlock 3 output: (4, 128, 11, 11)\nBlock 4 output: (4, 256, 6, 6)\nBlock 5 output: (4, 512, 3, 3)\nBlock 6 output: (4, 10)\n"
    }
   ],
   "source": [
    "net = ResNet(10, verbose=True)\n",
    "net.initialize()\n",
    "x = nd.random_uniform(shape=(4, 3, 96, 96))\n",
    "y = net(x)"
   ]
  },
  {
   "cell_type": "code",
   "execution_count": null,
   "metadata": {},
   "outputs": [],
   "source": [
    "from mxnet import gluon\n",
    "from mxnet import init\n",
    "\n",
    "import utils\n",
    "\n",
    "train_data, test_data = utils.load_data_fashion_mnist_new(batch_size=64, resize=96)\n",
    "ctx = utils.try_gpu()\n",
    "\n",
    "net_ = ResNet(10)\n",
    "net_.initialize(ctx=ctx, init=init.Xavier())\n",
    "\n",
    "loss = gluon.loss.SoftmaxCrossEntropyLoss()\n",
    "trainer = gluon.Trainer(net_.collect_params(), 'sgd', {'learning_rate': 0.05})\n",
    "\n",
    "utils.train(train_data, test_data, net_, loss, trainer, ctx, num_epochs=1)"
   ]
  }
 ]
}